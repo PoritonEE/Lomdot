{
  "cells": [
    {
      "cell_type": "markdown",
      "metadata": {
        "id": "view-in-github",
        "colab_type": "text"
      },
      "source": [
        "<a href=\"https://colab.research.google.com/github/PoritonEE/Lomdot/blob/main/content/assignments/assignment_1_ex.ipynb\" target=\"_parent\"><img src=\"https://colab.research.google.com/assets/colab-badge.svg\" alt=\"Open In Colab\"/></a>"
      ]
    },
    {
      "cell_type": "markdown",
      "metadata": {
        "id": "gP_LJ0eAhXQs"
      },
      "source": [
        "# Assignment 1 - Linear Least Squares (LLS)"
      ]
    },
    {
      "cell_type": "markdown",
      "metadata": {
        "id": "S2g8u22xhXQ4"
      },
      "source": [
        "## Intro\n",
        "\n",
        "The hands-on assignments (תרגילים רטובים) in this course will be given in python using a free online platform provided by google called Colab. If you need an introduction to this platform please go over assignment 0.\n",
        "\n",
        "### Making your own copy of the notebook\n",
        "\n",
        "Start by making your own copy of this notebook by pressing the \"Copy to drive\" button at the top area of the this page.  Make sure that the logo at the top of the page changes to Google's drive icon: ![](https://ssl.gstatic.com/images/branding/product/1x/drive_2020q4_32dp.png)\n",
        "\n",
        "### Expending all cells\n",
        "\n",
        "When you open a new notebook some sections might be hidden (collapsed), showing only the title of the section with a \"↳ # cells hidden\" note beneath it. Before you start, make show you expand all the sections. You can do so by pressing **Ctrl+[** or by clicking on all the \"↳ # cells hidden\" lines.\n",
        "\n",
        "### ✍️ Your assignments\n",
        "\n",
        "In these assignments, you will have to follow the instruction in the notebooks and fill in the missing code blocks according to the instructions. The cells containing the instructions will be marked with ✍️. The line of code which you will be expected to fill in will be surrounded by the two following comments:\n",
        "\n",
        "\n",
        "``` python\n",
        "## %%%%%%%%%%%%%%% Your code here - Begin %%%%%%%%%%%%%%%\n",
        "\n",
        "## %%%%%%%%%%%%%%% Your code here - End %%%%%%%%%%%%%%%%%\n",
        "```\n",
        "\n",
        "After filling in all the missing code you will have to download the note book and submit it through the Moodle page. The instructions for downloading the notebook appear at the end of this notebook.\n",
        "\n",
        "### Your IDs\n",
        "\n",
        "✍️ Fill in your IDs in the cell below:"
      ]
    },
    {
      "cell_type": "code",
      "execution_count": null,
      "metadata": {
        "colab": {
          "base_uri": "https://localhost:8080/"
        },
        "id": "ERRSL5tuhXQ8",
        "outputId": "2c2420aa-e977-4d46-d4f1-0dd05f704069"
      },
      "outputs": [
        {
          "output_type": "stream",
          "name": "stdout",
          "text": [
            "Hello 012345678 & 012345678\n"
          ]
        }
      ],
      "source": [
        "## %%%%%%%%%%%%%%% Your code here - Begin %%%%%%%%%%%%%%%\n",
        "## Fill in your IDs (as a string)\n",
        "student1_id = '208783100'\n",
        "student2_id = '208668061'\n",
        "## %%%%%%%%%%%%%%% Your code here - End %%%%%%%%%%%%%%%%%\n",
        "\n",
        "print('Hello ' + student1_id + ' & ' + student2_id)"
      ]
    },
    {
      "cell_type": "markdown",
      "metadata": {
        "id": "DtxBY-T6hXRF"
      },
      "source": [
        "### Importing Packages\n",
        "\n",
        "We will start by importing the packages which we will be using in this assignment."
      ]
    },
    {
      "cell_type": "code",
      "execution_count": 5,
      "metadata": {
        "id": "rkI41JQ6hXRG"
      },
      "outputs": [],
      "source": [
        "import numpy as np  # Numerical package (mainly multi-dimensional arrays and linear algebra)\n",
        "import pandas as pd  # A package for working with data frames\n",
        "import matplotlib.pyplot as plt  # A plotting package\n",
        "\n",
        "## Setup matplotlib to output figures into the notebook\n",
        "%matplotlib inline\n",
        "\n",
        "## Set some default values of the the matplotlib plots\n",
        "plt.rcParams['figure.figsize'] = (6.0, 6.0)  # Set default plot's sizes\n",
        "plt.rcParams['figure.dpi'] = 120  # Set default plot's dpi (increase fonts' size)\n",
        "plt.rcParams['axes.grid'] = True  # Show grid by default in figures"
      ]
    },
    {
      "cell_type": "markdown",
      "metadata": {
        "id": "INrEFQ4jhXRI"
      },
      "source": [
        "## The pandas package\n",
        "\n",
        "A great and very popular package for working with dataset in Python is the [pandas package](https://pandas.pydata.org/), which we have imported in the above code cell.\n",
        "\n",
        "The main type of object in pandas is the *DataFrame*. The data frame is basically 2D Mumpy arrays with extended capabilities such as:\n",
        "\n",
        "- The ability to give names to columns \\ rows.\n",
        "- Advance manipulation such as: grouping, querying etc. handing missing data.\n",
        "- Predefined plotting function.\n",
        "- Nice integration with notebooks (such as this one) viewing the array as a nice table\n",
        "\n",
        "In this course we will mostly be using this package to load our dataset and then extract the relevant data form them as a Numpy array.\n",
        "\n",
        "If you are interested in learning more about pandas you can look at the [10 minutes to pandas](https://pandas.pydata.org/docs/user_guide/10min.html) page or go through the [full official tutorial](https://pandas.pydata.org/docs/getting_started/index.html)"
      ]
    },
    {
      "cell_type": "markdown",
      "metadata": {
        "id": "pFGj0dQlhXRK"
      },
      "source": [
        "As a very short introduction to working with pandas DataFrames we will give a few quick examples.\n",
        "\n",
        "(**Reminder**: when running a cell, the output of the last line in the cell is presented below the cell as the output of the cell)\n",
        "\n",
        "1. The following code wraps a 5 by 5 random array (with integers between 0 and 10) with a DataFrame"
      ]
    },
    {
      "cell_type": "code",
      "execution_count": 6,
      "metadata": {
        "id": "82g4UqJrhXRL",
        "outputId": "837b0075-f4bb-4565-ea4c-b5fa3963937f",
        "colab": {
          "base_uri": "https://localhost:8080/",
          "height": 206
        }
      },
      "outputs": [
        {
          "output_type": "execute_result",
          "data": {
            "text/plain": [
              "   0  1  2  3  4\n",
              "0  6  6  9  9  8\n",
              "1  2  1  8  8  7\n",
              "2  3  5  4  9  7\n",
              "3  6  2  1  2  1\n",
              "4  9  7  5  9  2"
            ],
            "text/html": [
              "\n",
              "  <div id=\"df-36d27a69-7b7f-46b5-92b8-4c7beb84dd87\" class=\"colab-df-container\">\n",
              "    <div>\n",
              "<style scoped>\n",
              "    .dataframe tbody tr th:only-of-type {\n",
              "        vertical-align: middle;\n",
              "    }\n",
              "\n",
              "    .dataframe tbody tr th {\n",
              "        vertical-align: top;\n",
              "    }\n",
              "\n",
              "    .dataframe thead th {\n",
              "        text-align: right;\n",
              "    }\n",
              "</style>\n",
              "<table border=\"1\" class=\"dataframe\">\n",
              "  <thead>\n",
              "    <tr style=\"text-align: right;\">\n",
              "      <th></th>\n",
              "      <th>0</th>\n",
              "      <th>1</th>\n",
              "      <th>2</th>\n",
              "      <th>3</th>\n",
              "      <th>4</th>\n",
              "    </tr>\n",
              "  </thead>\n",
              "  <tbody>\n",
              "    <tr>\n",
              "      <th>0</th>\n",
              "      <td>6</td>\n",
              "      <td>6</td>\n",
              "      <td>9</td>\n",
              "      <td>9</td>\n",
              "      <td>8</td>\n",
              "    </tr>\n",
              "    <tr>\n",
              "      <th>1</th>\n",
              "      <td>2</td>\n",
              "      <td>1</td>\n",
              "      <td>8</td>\n",
              "      <td>8</td>\n",
              "      <td>7</td>\n",
              "    </tr>\n",
              "    <tr>\n",
              "      <th>2</th>\n",
              "      <td>3</td>\n",
              "      <td>5</td>\n",
              "      <td>4</td>\n",
              "      <td>9</td>\n",
              "      <td>7</td>\n",
              "    </tr>\n",
              "    <tr>\n",
              "      <th>3</th>\n",
              "      <td>6</td>\n",
              "      <td>2</td>\n",
              "      <td>1</td>\n",
              "      <td>2</td>\n",
              "      <td>1</td>\n",
              "    </tr>\n",
              "    <tr>\n",
              "      <th>4</th>\n",
              "      <td>9</td>\n",
              "      <td>7</td>\n",
              "      <td>5</td>\n",
              "      <td>9</td>\n",
              "      <td>2</td>\n",
              "    </tr>\n",
              "  </tbody>\n",
              "</table>\n",
              "</div>\n",
              "    <div class=\"colab-df-buttons\">\n",
              "\n",
              "  <div class=\"colab-df-container\">\n",
              "    <button class=\"colab-df-convert\" onclick=\"convertToInteractive('df-36d27a69-7b7f-46b5-92b8-4c7beb84dd87')\"\n",
              "            title=\"Convert this dataframe to an interactive table.\"\n",
              "            style=\"display:none;\">\n",
              "\n",
              "  <svg xmlns=\"http://www.w3.org/2000/svg\" height=\"24px\" viewBox=\"0 -960 960 960\">\n",
              "    <path d=\"M120-120v-720h720v720H120Zm60-500h600v-160H180v160Zm220 220h160v-160H400v160Zm0 220h160v-160H400v160ZM180-400h160v-160H180v160Zm440 0h160v-160H620v160ZM180-180h160v-160H180v160Zm440 0h160v-160H620v160Z\"/>\n",
              "  </svg>\n",
              "    </button>\n",
              "\n",
              "  <style>\n",
              "    .colab-df-container {\n",
              "      display:flex;\n",
              "      gap: 12px;\n",
              "    }\n",
              "\n",
              "    .colab-df-convert {\n",
              "      background-color: #E8F0FE;\n",
              "      border: none;\n",
              "      border-radius: 50%;\n",
              "      cursor: pointer;\n",
              "      display: none;\n",
              "      fill: #1967D2;\n",
              "      height: 32px;\n",
              "      padding: 0 0 0 0;\n",
              "      width: 32px;\n",
              "    }\n",
              "\n",
              "    .colab-df-convert:hover {\n",
              "      background-color: #E2EBFA;\n",
              "      box-shadow: 0px 1px 2px rgba(60, 64, 67, 0.3), 0px 1px 3px 1px rgba(60, 64, 67, 0.15);\n",
              "      fill: #174EA6;\n",
              "    }\n",
              "\n",
              "    .colab-df-buttons div {\n",
              "      margin-bottom: 4px;\n",
              "    }\n",
              "\n",
              "    [theme=dark] .colab-df-convert {\n",
              "      background-color: #3B4455;\n",
              "      fill: #D2E3FC;\n",
              "    }\n",
              "\n",
              "    [theme=dark] .colab-df-convert:hover {\n",
              "      background-color: #434B5C;\n",
              "      box-shadow: 0px 1px 3px 1px rgba(0, 0, 0, 0.15);\n",
              "      filter: drop-shadow(0px 1px 2px rgba(0, 0, 0, 0.3));\n",
              "      fill: #FFFFFF;\n",
              "    }\n",
              "  </style>\n",
              "\n",
              "    <script>\n",
              "      const buttonEl =\n",
              "        document.querySelector('#df-36d27a69-7b7f-46b5-92b8-4c7beb84dd87 button.colab-df-convert');\n",
              "      buttonEl.style.display =\n",
              "        google.colab.kernel.accessAllowed ? 'block' : 'none';\n",
              "\n",
              "      async function convertToInteractive(key) {\n",
              "        const element = document.querySelector('#df-36d27a69-7b7f-46b5-92b8-4c7beb84dd87');\n",
              "        const dataTable =\n",
              "          await google.colab.kernel.invokeFunction('convertToInteractive',\n",
              "                                                    [key], {});\n",
              "        if (!dataTable) return;\n",
              "\n",
              "        const docLinkHtml = 'Like what you see? Visit the ' +\n",
              "          '<a target=\"_blank\" href=https://colab.research.google.com/notebooks/data_table.ipynb>data table notebook</a>'\n",
              "          + ' to learn more about interactive tables.';\n",
              "        element.innerHTML = '';\n",
              "        dataTable['output_type'] = 'display_data';\n",
              "        await google.colab.output.renderOutput(dataTable, element);\n",
              "        const docLink = document.createElement('div');\n",
              "        docLink.innerHTML = docLinkHtml;\n",
              "        element.appendChild(docLink);\n",
              "      }\n",
              "    </script>\n",
              "  </div>\n",
              "\n",
              "\n",
              "<div id=\"df-b1bacdbe-12c3-42fc-88fc-f146198fe82d\">\n",
              "  <button class=\"colab-df-quickchart\" onclick=\"quickchart('df-b1bacdbe-12c3-42fc-88fc-f146198fe82d')\"\n",
              "            title=\"Suggest charts\"\n",
              "            style=\"display:none;\">\n",
              "\n",
              "<svg xmlns=\"http://www.w3.org/2000/svg\" height=\"24px\"viewBox=\"0 0 24 24\"\n",
              "     width=\"24px\">\n",
              "    <g>\n",
              "        <path d=\"M19 3H5c-1.1 0-2 .9-2 2v14c0 1.1.9 2 2 2h14c1.1 0 2-.9 2-2V5c0-1.1-.9-2-2-2zM9 17H7v-7h2v7zm4 0h-2V7h2v10zm4 0h-2v-4h2v4z\"/>\n",
              "    </g>\n",
              "</svg>\n",
              "  </button>\n",
              "\n",
              "<style>\n",
              "  .colab-df-quickchart {\n",
              "      --bg-color: #E8F0FE;\n",
              "      --fill-color: #1967D2;\n",
              "      --hover-bg-color: #E2EBFA;\n",
              "      --hover-fill-color: #174EA6;\n",
              "      --disabled-fill-color: #AAA;\n",
              "      --disabled-bg-color: #DDD;\n",
              "  }\n",
              "\n",
              "  [theme=dark] .colab-df-quickchart {\n",
              "      --bg-color: #3B4455;\n",
              "      --fill-color: #D2E3FC;\n",
              "      --hover-bg-color: #434B5C;\n",
              "      --hover-fill-color: #FFFFFF;\n",
              "      --disabled-bg-color: #3B4455;\n",
              "      --disabled-fill-color: #666;\n",
              "  }\n",
              "\n",
              "  .colab-df-quickchart {\n",
              "    background-color: var(--bg-color);\n",
              "    border: none;\n",
              "    border-radius: 50%;\n",
              "    cursor: pointer;\n",
              "    display: none;\n",
              "    fill: var(--fill-color);\n",
              "    height: 32px;\n",
              "    padding: 0;\n",
              "    width: 32px;\n",
              "  }\n",
              "\n",
              "  .colab-df-quickchart:hover {\n",
              "    background-color: var(--hover-bg-color);\n",
              "    box-shadow: 0 1px 2px rgba(60, 64, 67, 0.3), 0 1px 3px 1px rgba(60, 64, 67, 0.15);\n",
              "    fill: var(--button-hover-fill-color);\n",
              "  }\n",
              "\n",
              "  .colab-df-quickchart-complete:disabled,\n",
              "  .colab-df-quickchart-complete:disabled:hover {\n",
              "    background-color: var(--disabled-bg-color);\n",
              "    fill: var(--disabled-fill-color);\n",
              "    box-shadow: none;\n",
              "  }\n",
              "\n",
              "  .colab-df-spinner {\n",
              "    border: 2px solid var(--fill-color);\n",
              "    border-color: transparent;\n",
              "    border-bottom-color: var(--fill-color);\n",
              "    animation:\n",
              "      spin 1s steps(1) infinite;\n",
              "  }\n",
              "\n",
              "  @keyframes spin {\n",
              "    0% {\n",
              "      border-color: transparent;\n",
              "      border-bottom-color: var(--fill-color);\n",
              "      border-left-color: var(--fill-color);\n",
              "    }\n",
              "    20% {\n",
              "      border-color: transparent;\n",
              "      border-left-color: var(--fill-color);\n",
              "      border-top-color: var(--fill-color);\n",
              "    }\n",
              "    30% {\n",
              "      border-color: transparent;\n",
              "      border-left-color: var(--fill-color);\n",
              "      border-top-color: var(--fill-color);\n",
              "      border-right-color: var(--fill-color);\n",
              "    }\n",
              "    40% {\n",
              "      border-color: transparent;\n",
              "      border-right-color: var(--fill-color);\n",
              "      border-top-color: var(--fill-color);\n",
              "    }\n",
              "    60% {\n",
              "      border-color: transparent;\n",
              "      border-right-color: var(--fill-color);\n",
              "    }\n",
              "    80% {\n",
              "      border-color: transparent;\n",
              "      border-right-color: var(--fill-color);\n",
              "      border-bottom-color: var(--fill-color);\n",
              "    }\n",
              "    90% {\n",
              "      border-color: transparent;\n",
              "      border-bottom-color: var(--fill-color);\n",
              "    }\n",
              "  }\n",
              "</style>\n",
              "\n",
              "  <script>\n",
              "    async function quickchart(key) {\n",
              "      const quickchartButtonEl =\n",
              "        document.querySelector('#' + key + ' button');\n",
              "      quickchartButtonEl.disabled = true;  // To prevent multiple clicks.\n",
              "      quickchartButtonEl.classList.add('colab-df-spinner');\n",
              "      try {\n",
              "        const charts = await google.colab.kernel.invokeFunction(\n",
              "            'suggestCharts', [key], {});\n",
              "      } catch (error) {\n",
              "        console.error('Error during call to suggestCharts:', error);\n",
              "      }\n",
              "      quickchartButtonEl.classList.remove('colab-df-spinner');\n",
              "      quickchartButtonEl.classList.add('colab-df-quickchart-complete');\n",
              "    }\n",
              "    (() => {\n",
              "      let quickchartButtonEl =\n",
              "        document.querySelector('#df-b1bacdbe-12c3-42fc-88fc-f146198fe82d button');\n",
              "      quickchartButtonEl.style.display =\n",
              "        google.colab.kernel.accessAllowed ? 'block' : 'none';\n",
              "    })();\n",
              "  </script>\n",
              "</div>\n",
              "\n",
              "  <div id=\"id_52f7e949-7f17-4002-a47f-4b0f3ec28b57\">\n",
              "    <style>\n",
              "      .colab-df-generate {\n",
              "        background-color: #E8F0FE;\n",
              "        border: none;\n",
              "        border-radius: 50%;\n",
              "        cursor: pointer;\n",
              "        display: none;\n",
              "        fill: #1967D2;\n",
              "        height: 32px;\n",
              "        padding: 0 0 0 0;\n",
              "        width: 32px;\n",
              "      }\n",
              "\n",
              "      .colab-df-generate:hover {\n",
              "        background-color: #E2EBFA;\n",
              "        box-shadow: 0px 1px 2px rgba(60, 64, 67, 0.3), 0px 1px 3px 1px rgba(60, 64, 67, 0.15);\n",
              "        fill: #174EA6;\n",
              "      }\n",
              "\n",
              "      [theme=dark] .colab-df-generate {\n",
              "        background-color: #3B4455;\n",
              "        fill: #D2E3FC;\n",
              "      }\n",
              "\n",
              "      [theme=dark] .colab-df-generate:hover {\n",
              "        background-color: #434B5C;\n",
              "        box-shadow: 0px 1px 3px 1px rgba(0, 0, 0, 0.15);\n",
              "        filter: drop-shadow(0px 1px 2px rgba(0, 0, 0, 0.3));\n",
              "        fill: #FFFFFF;\n",
              "      }\n",
              "    </style>\n",
              "    <button class=\"colab-df-generate\" onclick=\"generateWithVariable('df')\"\n",
              "            title=\"Generate code using this dataframe.\"\n",
              "            style=\"display:none;\">\n",
              "\n",
              "  <svg xmlns=\"http://www.w3.org/2000/svg\" height=\"24px\"viewBox=\"0 0 24 24\"\n",
              "       width=\"24px\">\n",
              "    <path d=\"M7,19H8.4L18.45,9,17,7.55,7,17.6ZM5,21V16.75L18.45,3.32a2,2,0,0,1,2.83,0l1.4,1.43a1.91,1.91,0,0,1,.58,1.4,1.91,1.91,0,0,1-.58,1.4L9.25,21ZM18.45,9,17,7.55Zm-12,3A5.31,5.31,0,0,0,4.9,8.1,5.31,5.31,0,0,0,1,6.5,5.31,5.31,0,0,0,4.9,4.9,5.31,5.31,0,0,0,6.5,1,5.31,5.31,0,0,0,8.1,4.9,5.31,5.31,0,0,0,12,6.5,5.46,5.46,0,0,0,6.5,12Z\"/>\n",
              "  </svg>\n",
              "    </button>\n",
              "    <script>\n",
              "      (() => {\n",
              "      const buttonEl =\n",
              "        document.querySelector('#id_52f7e949-7f17-4002-a47f-4b0f3ec28b57 button.colab-df-generate');\n",
              "      buttonEl.style.display =\n",
              "        google.colab.kernel.accessAllowed ? 'block' : 'none';\n",
              "\n",
              "      buttonEl.onclick = () => {\n",
              "        google.colab.notebook.generateWithVariable('df');\n",
              "      }\n",
              "      })();\n",
              "    </script>\n",
              "  </div>\n",
              "\n",
              "    </div>\n",
              "  </div>\n"
            ],
            "application/vnd.google.colaboratory.intrinsic+json": {
              "type": "dataframe",
              "variable_name": "df",
              "summary": "{\n  \"name\": \"df\",\n  \"rows\": 5,\n  \"fields\": [\n    {\n      \"column\": 0,\n      \"properties\": {\n        \"dtype\": \"number\",\n        \"std\": 2,\n        \"min\": 2,\n        \"max\": 9,\n        \"num_unique_values\": 4,\n        \"samples\": [\n          2,\n          9,\n          6\n        ],\n        \"semantic_type\": \"\",\n        \"description\": \"\"\n      }\n    },\n    {\n      \"column\": 1,\n      \"properties\": {\n        \"dtype\": \"number\",\n        \"std\": 2,\n        \"min\": 1,\n        \"max\": 7,\n        \"num_unique_values\": 5,\n        \"samples\": [\n          1,\n          7,\n          5\n        ],\n        \"semantic_type\": \"\",\n        \"description\": \"\"\n      }\n    },\n    {\n      \"column\": 2,\n      \"properties\": {\n        \"dtype\": \"number\",\n        \"std\": 3,\n        \"min\": 1,\n        \"max\": 9,\n        \"num_unique_values\": 5,\n        \"samples\": [\n          8,\n          5,\n          4\n        ],\n        \"semantic_type\": \"\",\n        \"description\": \"\"\n      }\n    },\n    {\n      \"column\": 3,\n      \"properties\": {\n        \"dtype\": \"number\",\n        \"std\": 3,\n        \"min\": 2,\n        \"max\": 9,\n        \"num_unique_values\": 3,\n        \"samples\": [\n          9,\n          8,\n          2\n        ],\n        \"semantic_type\": \"\",\n        \"description\": \"\"\n      }\n    },\n    {\n      \"column\": 4,\n      \"properties\": {\n        \"dtype\": \"number\",\n        \"std\": 3,\n        \"min\": 1,\n        \"max\": 8,\n        \"num_unique_values\": 4,\n        \"samples\": [\n          7,\n          2,\n          8\n        ],\n        \"semantic_type\": \"\",\n        \"description\": \"\"\n      }\n    }\n  ]\n}"
            }
          },
          "metadata": {},
          "execution_count": 6
        }
      ],
      "source": [
        "df = pd.DataFrame(np.random.randint(0, 10, (5, 5)))\n",
        "df"
      ]
    },
    {
      "cell_type": "markdown",
      "metadata": {
        "id": "hF5KBtNbhXRN"
      },
      "source": [
        "2. We can also give each column a name:"
      ]
    },
    {
      "cell_type": "code",
      "execution_count": 7,
      "metadata": {
        "id": "DfTjtmjjhXRO",
        "outputId": "d8afc8fc-0506-407a-c3a8-ab97d3bd1474",
        "colab": {
          "base_uri": "https://localhost:8080/",
          "height": 206
        }
      },
      "outputs": [
        {
          "output_type": "execute_result",
          "data": {
            "text/plain": [
              "   field 1  field 2  field 3  field 4  field 5\n",
              "0        5        8        2        8        8\n",
              "1        1        8        4        9        4\n",
              "2        9        0        2        5        5\n",
              "3        3        0        1        5        1\n",
              "4        4        3        4        5        0"
            ],
            "text/html": [
              "\n",
              "  <div id=\"df-01186dc8-0d23-4be4-950d-a4a521dc62e9\" class=\"colab-df-container\">\n",
              "    <div>\n",
              "<style scoped>\n",
              "    .dataframe tbody tr th:only-of-type {\n",
              "        vertical-align: middle;\n",
              "    }\n",
              "\n",
              "    .dataframe tbody tr th {\n",
              "        vertical-align: top;\n",
              "    }\n",
              "\n",
              "    .dataframe thead th {\n",
              "        text-align: right;\n",
              "    }\n",
              "</style>\n",
              "<table border=\"1\" class=\"dataframe\">\n",
              "  <thead>\n",
              "    <tr style=\"text-align: right;\">\n",
              "      <th></th>\n",
              "      <th>field 1</th>\n",
              "      <th>field 2</th>\n",
              "      <th>field 3</th>\n",
              "      <th>field 4</th>\n",
              "      <th>field 5</th>\n",
              "    </tr>\n",
              "  </thead>\n",
              "  <tbody>\n",
              "    <tr>\n",
              "      <th>0</th>\n",
              "      <td>5</td>\n",
              "      <td>8</td>\n",
              "      <td>2</td>\n",
              "      <td>8</td>\n",
              "      <td>8</td>\n",
              "    </tr>\n",
              "    <tr>\n",
              "      <th>1</th>\n",
              "      <td>1</td>\n",
              "      <td>8</td>\n",
              "      <td>4</td>\n",
              "      <td>9</td>\n",
              "      <td>4</td>\n",
              "    </tr>\n",
              "    <tr>\n",
              "      <th>2</th>\n",
              "      <td>9</td>\n",
              "      <td>0</td>\n",
              "      <td>2</td>\n",
              "      <td>5</td>\n",
              "      <td>5</td>\n",
              "    </tr>\n",
              "    <tr>\n",
              "      <th>3</th>\n",
              "      <td>3</td>\n",
              "      <td>0</td>\n",
              "      <td>1</td>\n",
              "      <td>5</td>\n",
              "      <td>1</td>\n",
              "    </tr>\n",
              "    <tr>\n",
              "      <th>4</th>\n",
              "      <td>4</td>\n",
              "      <td>3</td>\n",
              "      <td>4</td>\n",
              "      <td>5</td>\n",
              "      <td>0</td>\n",
              "    </tr>\n",
              "  </tbody>\n",
              "</table>\n",
              "</div>\n",
              "    <div class=\"colab-df-buttons\">\n",
              "\n",
              "  <div class=\"colab-df-container\">\n",
              "    <button class=\"colab-df-convert\" onclick=\"convertToInteractive('df-01186dc8-0d23-4be4-950d-a4a521dc62e9')\"\n",
              "            title=\"Convert this dataframe to an interactive table.\"\n",
              "            style=\"display:none;\">\n",
              "\n",
              "  <svg xmlns=\"http://www.w3.org/2000/svg\" height=\"24px\" viewBox=\"0 -960 960 960\">\n",
              "    <path d=\"M120-120v-720h720v720H120Zm60-500h600v-160H180v160Zm220 220h160v-160H400v160Zm0 220h160v-160H400v160ZM180-400h160v-160H180v160Zm440 0h160v-160H620v160ZM180-180h160v-160H180v160Zm440 0h160v-160H620v160Z\"/>\n",
              "  </svg>\n",
              "    </button>\n",
              "\n",
              "  <style>\n",
              "    .colab-df-container {\n",
              "      display:flex;\n",
              "      gap: 12px;\n",
              "    }\n",
              "\n",
              "    .colab-df-convert {\n",
              "      background-color: #E8F0FE;\n",
              "      border: none;\n",
              "      border-radius: 50%;\n",
              "      cursor: pointer;\n",
              "      display: none;\n",
              "      fill: #1967D2;\n",
              "      height: 32px;\n",
              "      padding: 0 0 0 0;\n",
              "      width: 32px;\n",
              "    }\n",
              "\n",
              "    .colab-df-convert:hover {\n",
              "      background-color: #E2EBFA;\n",
              "      box-shadow: 0px 1px 2px rgba(60, 64, 67, 0.3), 0px 1px 3px 1px rgba(60, 64, 67, 0.15);\n",
              "      fill: #174EA6;\n",
              "    }\n",
              "\n",
              "    .colab-df-buttons div {\n",
              "      margin-bottom: 4px;\n",
              "    }\n",
              "\n",
              "    [theme=dark] .colab-df-convert {\n",
              "      background-color: #3B4455;\n",
              "      fill: #D2E3FC;\n",
              "    }\n",
              "\n",
              "    [theme=dark] .colab-df-convert:hover {\n",
              "      background-color: #434B5C;\n",
              "      box-shadow: 0px 1px 3px 1px rgba(0, 0, 0, 0.15);\n",
              "      filter: drop-shadow(0px 1px 2px rgba(0, 0, 0, 0.3));\n",
              "      fill: #FFFFFF;\n",
              "    }\n",
              "  </style>\n",
              "\n",
              "    <script>\n",
              "      const buttonEl =\n",
              "        document.querySelector('#df-01186dc8-0d23-4be4-950d-a4a521dc62e9 button.colab-df-convert');\n",
              "      buttonEl.style.display =\n",
              "        google.colab.kernel.accessAllowed ? 'block' : 'none';\n",
              "\n",
              "      async function convertToInteractive(key) {\n",
              "        const element = document.querySelector('#df-01186dc8-0d23-4be4-950d-a4a521dc62e9');\n",
              "        const dataTable =\n",
              "          await google.colab.kernel.invokeFunction('convertToInteractive',\n",
              "                                                    [key], {});\n",
              "        if (!dataTable) return;\n",
              "\n",
              "        const docLinkHtml = 'Like what you see? Visit the ' +\n",
              "          '<a target=\"_blank\" href=https://colab.research.google.com/notebooks/data_table.ipynb>data table notebook</a>'\n",
              "          + ' to learn more about interactive tables.';\n",
              "        element.innerHTML = '';\n",
              "        dataTable['output_type'] = 'display_data';\n",
              "        await google.colab.output.renderOutput(dataTable, element);\n",
              "        const docLink = document.createElement('div');\n",
              "        docLink.innerHTML = docLinkHtml;\n",
              "        element.appendChild(docLink);\n",
              "      }\n",
              "    </script>\n",
              "  </div>\n",
              "\n",
              "\n",
              "<div id=\"df-071e63f3-706b-491a-a334-52fa4906a40e\">\n",
              "  <button class=\"colab-df-quickchart\" onclick=\"quickchart('df-071e63f3-706b-491a-a334-52fa4906a40e')\"\n",
              "            title=\"Suggest charts\"\n",
              "            style=\"display:none;\">\n",
              "\n",
              "<svg xmlns=\"http://www.w3.org/2000/svg\" height=\"24px\"viewBox=\"0 0 24 24\"\n",
              "     width=\"24px\">\n",
              "    <g>\n",
              "        <path d=\"M19 3H5c-1.1 0-2 .9-2 2v14c0 1.1.9 2 2 2h14c1.1 0 2-.9 2-2V5c0-1.1-.9-2-2-2zM9 17H7v-7h2v7zm4 0h-2V7h2v10zm4 0h-2v-4h2v4z\"/>\n",
              "    </g>\n",
              "</svg>\n",
              "  </button>\n",
              "\n",
              "<style>\n",
              "  .colab-df-quickchart {\n",
              "      --bg-color: #E8F0FE;\n",
              "      --fill-color: #1967D2;\n",
              "      --hover-bg-color: #E2EBFA;\n",
              "      --hover-fill-color: #174EA6;\n",
              "      --disabled-fill-color: #AAA;\n",
              "      --disabled-bg-color: #DDD;\n",
              "  }\n",
              "\n",
              "  [theme=dark] .colab-df-quickchart {\n",
              "      --bg-color: #3B4455;\n",
              "      --fill-color: #D2E3FC;\n",
              "      --hover-bg-color: #434B5C;\n",
              "      --hover-fill-color: #FFFFFF;\n",
              "      --disabled-bg-color: #3B4455;\n",
              "      --disabled-fill-color: #666;\n",
              "  }\n",
              "\n",
              "  .colab-df-quickchart {\n",
              "    background-color: var(--bg-color);\n",
              "    border: none;\n",
              "    border-radius: 50%;\n",
              "    cursor: pointer;\n",
              "    display: none;\n",
              "    fill: var(--fill-color);\n",
              "    height: 32px;\n",
              "    padding: 0;\n",
              "    width: 32px;\n",
              "  }\n",
              "\n",
              "  .colab-df-quickchart:hover {\n",
              "    background-color: var(--hover-bg-color);\n",
              "    box-shadow: 0 1px 2px rgba(60, 64, 67, 0.3), 0 1px 3px 1px rgba(60, 64, 67, 0.15);\n",
              "    fill: var(--button-hover-fill-color);\n",
              "  }\n",
              "\n",
              "  .colab-df-quickchart-complete:disabled,\n",
              "  .colab-df-quickchart-complete:disabled:hover {\n",
              "    background-color: var(--disabled-bg-color);\n",
              "    fill: var(--disabled-fill-color);\n",
              "    box-shadow: none;\n",
              "  }\n",
              "\n",
              "  .colab-df-spinner {\n",
              "    border: 2px solid var(--fill-color);\n",
              "    border-color: transparent;\n",
              "    border-bottom-color: var(--fill-color);\n",
              "    animation:\n",
              "      spin 1s steps(1) infinite;\n",
              "  }\n",
              "\n",
              "  @keyframes spin {\n",
              "    0% {\n",
              "      border-color: transparent;\n",
              "      border-bottom-color: var(--fill-color);\n",
              "      border-left-color: var(--fill-color);\n",
              "    }\n",
              "    20% {\n",
              "      border-color: transparent;\n",
              "      border-left-color: var(--fill-color);\n",
              "      border-top-color: var(--fill-color);\n",
              "    }\n",
              "    30% {\n",
              "      border-color: transparent;\n",
              "      border-left-color: var(--fill-color);\n",
              "      border-top-color: var(--fill-color);\n",
              "      border-right-color: var(--fill-color);\n",
              "    }\n",
              "    40% {\n",
              "      border-color: transparent;\n",
              "      border-right-color: var(--fill-color);\n",
              "      border-top-color: var(--fill-color);\n",
              "    }\n",
              "    60% {\n",
              "      border-color: transparent;\n",
              "      border-right-color: var(--fill-color);\n",
              "    }\n",
              "    80% {\n",
              "      border-color: transparent;\n",
              "      border-right-color: var(--fill-color);\n",
              "      border-bottom-color: var(--fill-color);\n",
              "    }\n",
              "    90% {\n",
              "      border-color: transparent;\n",
              "      border-bottom-color: var(--fill-color);\n",
              "    }\n",
              "  }\n",
              "</style>\n",
              "\n",
              "  <script>\n",
              "    async function quickchart(key) {\n",
              "      const quickchartButtonEl =\n",
              "        document.querySelector('#' + key + ' button');\n",
              "      quickchartButtonEl.disabled = true;  // To prevent multiple clicks.\n",
              "      quickchartButtonEl.classList.add('colab-df-spinner');\n",
              "      try {\n",
              "        const charts = await google.colab.kernel.invokeFunction(\n",
              "            'suggestCharts', [key], {});\n",
              "      } catch (error) {\n",
              "        console.error('Error during call to suggestCharts:', error);\n",
              "      }\n",
              "      quickchartButtonEl.classList.remove('colab-df-spinner');\n",
              "      quickchartButtonEl.classList.add('colab-df-quickchart-complete');\n",
              "    }\n",
              "    (() => {\n",
              "      let quickchartButtonEl =\n",
              "        document.querySelector('#df-071e63f3-706b-491a-a334-52fa4906a40e button');\n",
              "      quickchartButtonEl.style.display =\n",
              "        google.colab.kernel.accessAllowed ? 'block' : 'none';\n",
              "    })();\n",
              "  </script>\n",
              "</div>\n",
              "\n",
              "  <div id=\"id_3866aeef-2ab4-4baa-bc99-a243001c16ee\">\n",
              "    <style>\n",
              "      .colab-df-generate {\n",
              "        background-color: #E8F0FE;\n",
              "        border: none;\n",
              "        border-radius: 50%;\n",
              "        cursor: pointer;\n",
              "        display: none;\n",
              "        fill: #1967D2;\n",
              "        height: 32px;\n",
              "        padding: 0 0 0 0;\n",
              "        width: 32px;\n",
              "      }\n",
              "\n",
              "      .colab-df-generate:hover {\n",
              "        background-color: #E2EBFA;\n",
              "        box-shadow: 0px 1px 2px rgba(60, 64, 67, 0.3), 0px 1px 3px 1px rgba(60, 64, 67, 0.15);\n",
              "        fill: #174EA6;\n",
              "      }\n",
              "\n",
              "      [theme=dark] .colab-df-generate {\n",
              "        background-color: #3B4455;\n",
              "        fill: #D2E3FC;\n",
              "      }\n",
              "\n",
              "      [theme=dark] .colab-df-generate:hover {\n",
              "        background-color: #434B5C;\n",
              "        box-shadow: 0px 1px 3px 1px rgba(0, 0, 0, 0.15);\n",
              "        filter: drop-shadow(0px 1px 2px rgba(0, 0, 0, 0.3));\n",
              "        fill: #FFFFFF;\n",
              "      }\n",
              "    </style>\n",
              "    <button class=\"colab-df-generate\" onclick=\"generateWithVariable('df')\"\n",
              "            title=\"Generate code using this dataframe.\"\n",
              "            style=\"display:none;\">\n",
              "\n",
              "  <svg xmlns=\"http://www.w3.org/2000/svg\" height=\"24px\"viewBox=\"0 0 24 24\"\n",
              "       width=\"24px\">\n",
              "    <path d=\"M7,19H8.4L18.45,9,17,7.55,7,17.6ZM5,21V16.75L18.45,3.32a2,2,0,0,1,2.83,0l1.4,1.43a1.91,1.91,0,0,1,.58,1.4,1.91,1.91,0,0,1-.58,1.4L9.25,21ZM18.45,9,17,7.55Zm-12,3A5.31,5.31,0,0,0,4.9,8.1,5.31,5.31,0,0,0,1,6.5,5.31,5.31,0,0,0,4.9,4.9,5.31,5.31,0,0,0,6.5,1,5.31,5.31,0,0,0,8.1,4.9,5.31,5.31,0,0,0,12,6.5,5.46,5.46,0,0,0,6.5,12Z\"/>\n",
              "  </svg>\n",
              "    </button>\n",
              "    <script>\n",
              "      (() => {\n",
              "      const buttonEl =\n",
              "        document.querySelector('#id_3866aeef-2ab4-4baa-bc99-a243001c16ee button.colab-df-generate');\n",
              "      buttonEl.style.display =\n",
              "        google.colab.kernel.accessAllowed ? 'block' : 'none';\n",
              "\n",
              "      buttonEl.onclick = () => {\n",
              "        google.colab.notebook.generateWithVariable('df');\n",
              "      }\n",
              "      })();\n",
              "    </script>\n",
              "  </div>\n",
              "\n",
              "    </div>\n",
              "  </div>\n"
            ],
            "application/vnd.google.colaboratory.intrinsic+json": {
              "type": "dataframe",
              "variable_name": "df",
              "summary": "{\n  \"name\": \"df\",\n  \"rows\": 5,\n  \"fields\": [\n    {\n      \"column\": \"field 1\",\n      \"properties\": {\n        \"dtype\": \"number\",\n        \"std\": 2,\n        \"min\": 1,\n        \"max\": 9,\n        \"num_unique_values\": 5,\n        \"samples\": [\n          1,\n          4,\n          9\n        ],\n        \"semantic_type\": \"\",\n        \"description\": \"\"\n      }\n    },\n    {\n      \"column\": \"field 2\",\n      \"properties\": {\n        \"dtype\": \"number\",\n        \"std\": 4,\n        \"min\": 0,\n        \"max\": 8,\n        \"num_unique_values\": 3,\n        \"samples\": [\n          8,\n          0,\n          3\n        ],\n        \"semantic_type\": \"\",\n        \"description\": \"\"\n      }\n    },\n    {\n      \"column\": \"field 3\",\n      \"properties\": {\n        \"dtype\": \"number\",\n        \"std\": 1,\n        \"min\": 1,\n        \"max\": 4,\n        \"num_unique_values\": 3,\n        \"samples\": [\n          2,\n          4,\n          1\n        ],\n        \"semantic_type\": \"\",\n        \"description\": \"\"\n      }\n    },\n    {\n      \"column\": \"field 4\",\n      \"properties\": {\n        \"dtype\": \"number\",\n        \"std\": 1,\n        \"min\": 5,\n        \"max\": 9,\n        \"num_unique_values\": 3,\n        \"samples\": [\n          8,\n          9,\n          5\n        ],\n        \"semantic_type\": \"\",\n        \"description\": \"\"\n      }\n    },\n    {\n      \"column\": \"field 5\",\n      \"properties\": {\n        \"dtype\": \"number\",\n        \"std\": 3,\n        \"min\": 0,\n        \"max\": 8,\n        \"num_unique_values\": 5,\n        \"samples\": [\n          4,\n          0,\n          5\n        ],\n        \"semantic_type\": \"\",\n        \"description\": \"\"\n      }\n    }\n  ]\n}"
            }
          },
          "metadata": {},
          "execution_count": 7
        }
      ],
      "source": [
        "df = pd.DataFrame(np.random.randint(0, 10, (5, 5)), columns=['field 1', 'field 2', 'field 3', 'field 4', 'field 5'])\n",
        "df"
      ]
    },
    {
      "cell_type": "markdown",
      "metadata": {
        "id": "RsPLQXeJhXRQ"
      },
      "source": [
        "3. To extract a specific columns we can address it by it's name:"
      ]
    },
    {
      "cell_type": "code",
      "execution_count": 8,
      "metadata": {
        "id": "EhQWvsNchXRR",
        "outputId": "ca4ec2d4-086c-4be0-b941-2a71b82f1f43",
        "colab": {
          "base_uri": "https://localhost:8080/",
          "height": 258
        }
      },
      "outputs": [
        {
          "output_type": "stream",
          "name": "stdout",
          "text": [
            "The column of \"field 3\" is:\n"
          ]
        },
        {
          "output_type": "execute_result",
          "data": {
            "text/plain": [
              "0    2\n",
              "1    4\n",
              "2    2\n",
              "3    1\n",
              "4    4\n",
              "Name: field 3, dtype: int64"
            ],
            "text/html": [
              "<div>\n",
              "<style scoped>\n",
              "    .dataframe tbody tr th:only-of-type {\n",
              "        vertical-align: middle;\n",
              "    }\n",
              "\n",
              "    .dataframe tbody tr th {\n",
              "        vertical-align: top;\n",
              "    }\n",
              "\n",
              "    .dataframe thead th {\n",
              "        text-align: right;\n",
              "    }\n",
              "</style>\n",
              "<table border=\"1\" class=\"dataframe\">\n",
              "  <thead>\n",
              "    <tr style=\"text-align: right;\">\n",
              "      <th></th>\n",
              "      <th>field 3</th>\n",
              "    </tr>\n",
              "  </thead>\n",
              "  <tbody>\n",
              "    <tr>\n",
              "      <th>0</th>\n",
              "      <td>2</td>\n",
              "    </tr>\n",
              "    <tr>\n",
              "      <th>1</th>\n",
              "      <td>4</td>\n",
              "    </tr>\n",
              "    <tr>\n",
              "      <th>2</th>\n",
              "      <td>2</td>\n",
              "    </tr>\n",
              "    <tr>\n",
              "      <th>3</th>\n",
              "      <td>1</td>\n",
              "    </tr>\n",
              "    <tr>\n",
              "      <th>4</th>\n",
              "      <td>4</td>\n",
              "    </tr>\n",
              "  </tbody>\n",
              "</table>\n",
              "</div><br><label><b>dtype:</b> int64</label>"
            ]
          },
          "metadata": {},
          "execution_count": 8
        }
      ],
      "source": [
        "print('The column of \"field 3\" is:')\n",
        "df['field 3']"
      ]
    },
    {
      "cell_type": "markdown",
      "metadata": {
        "id": "PBaF4L0KhXRS"
      },
      "source": [
        "4. To convert a column / DataFrame to a Numpy array we can use the \".value\" attribute:"
      ]
    },
    {
      "cell_type": "code",
      "execution_count": 9,
      "metadata": {
        "id": "xVLBsL3rhXRT",
        "outputId": "7c3802fd-63dc-42a4-cdde-df69f16c764d",
        "colab": {
          "base_uri": "https://localhost:8080/"
        }
      },
      "outputs": [
        {
          "output_type": "execute_result",
          "data": {
            "text/plain": [
              "array([2, 4, 2, 1, 4])"
            ]
          },
          "metadata": {},
          "execution_count": 9
        }
      ],
      "source": [
        "df['field 3'].values"
      ]
    },
    {
      "cell_type": "markdown",
      "metadata": {
        "id": "84dQ-ZW9hXRU"
      },
      "source": [
        "## Seoul Bike Sharing Demand Dataset\n",
        "\n",
        "In this assignment we will be looking at the data from an automatic bike rental service (similar to \"תל-אופן\") which operates in the city of Seoul. The dataset which we will be working with has been collected for every hour of the day over a period of one year. For each hour the dataset contains the number of bikes rented along with a few weather indicator such as the temperature, the wind speed and the amount of rain.\n",
        "\n",
        "In this assignment we will try to predict the number of the bikes which are going to be rented based on the day of the week, the hour of the data and the weather. We shall use RMSE cost as our cost function.\n",
        "\n",
        "This dataset has been made available by the [UCI's (University of California, Irvine) Center for Machine Learning and Intelligent Systems](http://archive.ics.uci.edu/ml/index.php). The project's official site along with the dataset can be found [here](http://archive.ics.uci.edu/ml/datasets/Seoul+Bike+Sharing+Demand).\n",
        "\n",
        "We will work with a slightly modified version of this dataset, which can be found [here](https://technion046195.github.io/semester_2019_spring/datasets/bike_demand.csv)."
      ]
    },
    {
      "cell_type": "markdown",
      "metadata": {
        "id": "MoP2e4d9hXRV"
      },
      "source": [
        "### Loading the dataset\n",
        "\n",
        "We shall start by loading the dataset. The dataset is stored as an [CSV file](https://en.wikipedia.org/wiki/Comma-separated_values). The \"read_csv\" function in the pandas package reads a CSV file into a DataFrame (even for a remote location on the web)"
      ]
    },
    {
      "cell_type": "code",
      "execution_count": 10,
      "metadata": {
        "id": "oaJM53tIhXRW"
      },
      "outputs": [],
      "source": [
        "dataset_location = 'https://technion046195.netlify.app/datasets/bike_demand.csv'\n",
        "\n",
        "## Loading the data\n",
        "dataset = pd.read_csv(dataset_location)"
      ]
    },
    {
      "cell_type": "markdown",
      "metadata": {
        "id": "mD7jqbBIhXRX"
      },
      "source": [
        "Lets look at the dataset:"
      ]
    },
    {
      "cell_type": "code",
      "execution_count": 11,
      "metadata": {
        "id": "lFzL5kwJhXRY",
        "outputId": "5e2076d8-1950-445c-f669-269298a21bca",
        "colab": {
          "base_uri": "https://localhost:8080/",
          "height": 441
        }
      },
      "outputs": [
        {
          "output_type": "execute_result",
          "data": {
            "text/plain": [
              "            Date  Rented Bike Count  Hour  Temperature(°C)  Humidity(%)  \\\n",
              "0     01/12/2017                254     0             -5.2           37   \n",
              "1     01/12/2017                204     1             -5.5           38   \n",
              "2     01/12/2017                173     2             -6.0           39   \n",
              "3     01/12/2017                107     3             -6.2           40   \n",
              "4     01/12/2017                 78     4             -6.0           36   \n",
              "...          ...                ...   ...              ...          ...   \n",
              "8052  30/11/2018               1003    19              4.2           34   \n",
              "8053  30/11/2018                764    20              3.4           37   \n",
              "8054  30/11/2018                694    21              2.6           39   \n",
              "8055  30/11/2018                712    22              2.1           41   \n",
              "8056  30/11/2018                584    23              1.9           43   \n",
              "\n",
              "      Wind speed (m/s)  Visibility (10m)  Solar Radiation (MJ/m2)  \\\n",
              "0                  2.2              2000                      0.0   \n",
              "1                  0.8              2000                      0.0   \n",
              "2                  1.0              2000                      0.0   \n",
              "3                  0.9              2000                      0.0   \n",
              "4                  2.3              2000                      0.0   \n",
              "...                ...               ...                      ...   \n",
              "8052               2.6              1894                      0.0   \n",
              "8053               2.3              2000                      0.0   \n",
              "8054               0.3              1968                      0.0   \n",
              "8055               1.0              1859                      0.0   \n",
              "8056               1.3              1909                      0.0   \n",
              "\n",
              "      Rainfall(mm)  Snowfall (cm)  Day of the week  \n",
              "0              0.0            0.0                4  \n",
              "1              0.0            0.0                4  \n",
              "2              0.0            0.0                4  \n",
              "3              0.0            0.0                4  \n",
              "4              0.0            0.0                4  \n",
              "...            ...            ...              ...  \n",
              "8052           0.0            0.0                4  \n",
              "8053           0.0            0.0                4  \n",
              "8054           0.0            0.0                4  \n",
              "8055           0.0            0.0                4  \n",
              "8056           0.0            0.0                4  \n",
              "\n",
              "[8057 rows x 11 columns]"
            ],
            "text/html": [
              "\n",
              "  <div id=\"df-6797d4c8-4258-4ebb-9bbb-57775fc72909\" class=\"colab-df-container\">\n",
              "    <div>\n",
              "<style scoped>\n",
              "    .dataframe tbody tr th:only-of-type {\n",
              "        vertical-align: middle;\n",
              "    }\n",
              "\n",
              "    .dataframe tbody tr th {\n",
              "        vertical-align: top;\n",
              "    }\n",
              "\n",
              "    .dataframe thead th {\n",
              "        text-align: right;\n",
              "    }\n",
              "</style>\n",
              "<table border=\"1\" class=\"dataframe\">\n",
              "  <thead>\n",
              "    <tr style=\"text-align: right;\">\n",
              "      <th></th>\n",
              "      <th>Date</th>\n",
              "      <th>Rented Bike Count</th>\n",
              "      <th>Hour</th>\n",
              "      <th>Temperature(°C)</th>\n",
              "      <th>Humidity(%)</th>\n",
              "      <th>Wind speed (m/s)</th>\n",
              "      <th>Visibility (10m)</th>\n",
              "      <th>Solar Radiation (MJ/m2)</th>\n",
              "      <th>Rainfall(mm)</th>\n",
              "      <th>Snowfall (cm)</th>\n",
              "      <th>Day of the week</th>\n",
              "    </tr>\n",
              "  </thead>\n",
              "  <tbody>\n",
              "    <tr>\n",
              "      <th>0</th>\n",
              "      <td>01/12/2017</td>\n",
              "      <td>254</td>\n",
              "      <td>0</td>\n",
              "      <td>-5.2</td>\n",
              "      <td>37</td>\n",
              "      <td>2.2</td>\n",
              "      <td>2000</td>\n",
              "      <td>0.0</td>\n",
              "      <td>0.0</td>\n",
              "      <td>0.0</td>\n",
              "      <td>4</td>\n",
              "    </tr>\n",
              "    <tr>\n",
              "      <th>1</th>\n",
              "      <td>01/12/2017</td>\n",
              "      <td>204</td>\n",
              "      <td>1</td>\n",
              "      <td>-5.5</td>\n",
              "      <td>38</td>\n",
              "      <td>0.8</td>\n",
              "      <td>2000</td>\n",
              "      <td>0.0</td>\n",
              "      <td>0.0</td>\n",
              "      <td>0.0</td>\n",
              "      <td>4</td>\n",
              "    </tr>\n",
              "    <tr>\n",
              "      <th>2</th>\n",
              "      <td>01/12/2017</td>\n",
              "      <td>173</td>\n",
              "      <td>2</td>\n",
              "      <td>-6.0</td>\n",
              "      <td>39</td>\n",
              "      <td>1.0</td>\n",
              "      <td>2000</td>\n",
              "      <td>0.0</td>\n",
              "      <td>0.0</td>\n",
              "      <td>0.0</td>\n",
              "      <td>4</td>\n",
              "    </tr>\n",
              "    <tr>\n",
              "      <th>3</th>\n",
              "      <td>01/12/2017</td>\n",
              "      <td>107</td>\n",
              "      <td>3</td>\n",
              "      <td>-6.2</td>\n",
              "      <td>40</td>\n",
              "      <td>0.9</td>\n",
              "      <td>2000</td>\n",
              "      <td>0.0</td>\n",
              "      <td>0.0</td>\n",
              "      <td>0.0</td>\n",
              "      <td>4</td>\n",
              "    </tr>\n",
              "    <tr>\n",
              "      <th>4</th>\n",
              "      <td>01/12/2017</td>\n",
              "      <td>78</td>\n",
              "      <td>4</td>\n",
              "      <td>-6.0</td>\n",
              "      <td>36</td>\n",
              "      <td>2.3</td>\n",
              "      <td>2000</td>\n",
              "      <td>0.0</td>\n",
              "      <td>0.0</td>\n",
              "      <td>0.0</td>\n",
              "      <td>4</td>\n",
              "    </tr>\n",
              "    <tr>\n",
              "      <th>...</th>\n",
              "      <td>...</td>\n",
              "      <td>...</td>\n",
              "      <td>...</td>\n",
              "      <td>...</td>\n",
              "      <td>...</td>\n",
              "      <td>...</td>\n",
              "      <td>...</td>\n",
              "      <td>...</td>\n",
              "      <td>...</td>\n",
              "      <td>...</td>\n",
              "      <td>...</td>\n",
              "    </tr>\n",
              "    <tr>\n",
              "      <th>8052</th>\n",
              "      <td>30/11/2018</td>\n",
              "      <td>1003</td>\n",
              "      <td>19</td>\n",
              "      <td>4.2</td>\n",
              "      <td>34</td>\n",
              "      <td>2.6</td>\n",
              "      <td>1894</td>\n",
              "      <td>0.0</td>\n",
              "      <td>0.0</td>\n",
              "      <td>0.0</td>\n",
              "      <td>4</td>\n",
              "    </tr>\n",
              "    <tr>\n",
              "      <th>8053</th>\n",
              "      <td>30/11/2018</td>\n",
              "      <td>764</td>\n",
              "      <td>20</td>\n",
              "      <td>3.4</td>\n",
              "      <td>37</td>\n",
              "      <td>2.3</td>\n",
              "      <td>2000</td>\n",
              "      <td>0.0</td>\n",
              "      <td>0.0</td>\n",
              "      <td>0.0</td>\n",
              "      <td>4</td>\n",
              "    </tr>\n",
              "    <tr>\n",
              "      <th>8054</th>\n",
              "      <td>30/11/2018</td>\n",
              "      <td>694</td>\n",
              "      <td>21</td>\n",
              "      <td>2.6</td>\n",
              "      <td>39</td>\n",
              "      <td>0.3</td>\n",
              "      <td>1968</td>\n",
              "      <td>0.0</td>\n",
              "      <td>0.0</td>\n",
              "      <td>0.0</td>\n",
              "      <td>4</td>\n",
              "    </tr>\n",
              "    <tr>\n",
              "      <th>8055</th>\n",
              "      <td>30/11/2018</td>\n",
              "      <td>712</td>\n",
              "      <td>22</td>\n",
              "      <td>2.1</td>\n",
              "      <td>41</td>\n",
              "      <td>1.0</td>\n",
              "      <td>1859</td>\n",
              "      <td>0.0</td>\n",
              "      <td>0.0</td>\n",
              "      <td>0.0</td>\n",
              "      <td>4</td>\n",
              "    </tr>\n",
              "    <tr>\n",
              "      <th>8056</th>\n",
              "      <td>30/11/2018</td>\n",
              "      <td>584</td>\n",
              "      <td>23</td>\n",
              "      <td>1.9</td>\n",
              "      <td>43</td>\n",
              "      <td>1.3</td>\n",
              "      <td>1909</td>\n",
              "      <td>0.0</td>\n",
              "      <td>0.0</td>\n",
              "      <td>0.0</td>\n",
              "      <td>4</td>\n",
              "    </tr>\n",
              "  </tbody>\n",
              "</table>\n",
              "<p>8057 rows × 11 columns</p>\n",
              "</div>\n",
              "    <div class=\"colab-df-buttons\">\n",
              "\n",
              "  <div class=\"colab-df-container\">\n",
              "    <button class=\"colab-df-convert\" onclick=\"convertToInteractive('df-6797d4c8-4258-4ebb-9bbb-57775fc72909')\"\n",
              "            title=\"Convert this dataframe to an interactive table.\"\n",
              "            style=\"display:none;\">\n",
              "\n",
              "  <svg xmlns=\"http://www.w3.org/2000/svg\" height=\"24px\" viewBox=\"0 -960 960 960\">\n",
              "    <path d=\"M120-120v-720h720v720H120Zm60-500h600v-160H180v160Zm220 220h160v-160H400v160Zm0 220h160v-160H400v160ZM180-400h160v-160H180v160Zm440 0h160v-160H620v160ZM180-180h160v-160H180v160Zm440 0h160v-160H620v160Z\"/>\n",
              "  </svg>\n",
              "    </button>\n",
              "\n",
              "  <style>\n",
              "    .colab-df-container {\n",
              "      display:flex;\n",
              "      gap: 12px;\n",
              "    }\n",
              "\n",
              "    .colab-df-convert {\n",
              "      background-color: #E8F0FE;\n",
              "      border: none;\n",
              "      border-radius: 50%;\n",
              "      cursor: pointer;\n",
              "      display: none;\n",
              "      fill: #1967D2;\n",
              "      height: 32px;\n",
              "      padding: 0 0 0 0;\n",
              "      width: 32px;\n",
              "    }\n",
              "\n",
              "    .colab-df-convert:hover {\n",
              "      background-color: #E2EBFA;\n",
              "      box-shadow: 0px 1px 2px rgba(60, 64, 67, 0.3), 0px 1px 3px 1px rgba(60, 64, 67, 0.15);\n",
              "      fill: #174EA6;\n",
              "    }\n",
              "\n",
              "    .colab-df-buttons div {\n",
              "      margin-bottom: 4px;\n",
              "    }\n",
              "\n",
              "    [theme=dark] .colab-df-convert {\n",
              "      background-color: #3B4455;\n",
              "      fill: #D2E3FC;\n",
              "    }\n",
              "\n",
              "    [theme=dark] .colab-df-convert:hover {\n",
              "      background-color: #434B5C;\n",
              "      box-shadow: 0px 1px 3px 1px rgba(0, 0, 0, 0.15);\n",
              "      filter: drop-shadow(0px 1px 2px rgba(0, 0, 0, 0.3));\n",
              "      fill: #FFFFFF;\n",
              "    }\n",
              "  </style>\n",
              "\n",
              "    <script>\n",
              "      const buttonEl =\n",
              "        document.querySelector('#df-6797d4c8-4258-4ebb-9bbb-57775fc72909 button.colab-df-convert');\n",
              "      buttonEl.style.display =\n",
              "        google.colab.kernel.accessAllowed ? 'block' : 'none';\n",
              "\n",
              "      async function convertToInteractive(key) {\n",
              "        const element = document.querySelector('#df-6797d4c8-4258-4ebb-9bbb-57775fc72909');\n",
              "        const dataTable =\n",
              "          await google.colab.kernel.invokeFunction('convertToInteractive',\n",
              "                                                    [key], {});\n",
              "        if (!dataTable) return;\n",
              "\n",
              "        const docLinkHtml = 'Like what you see? Visit the ' +\n",
              "          '<a target=\"_blank\" href=https://colab.research.google.com/notebooks/data_table.ipynb>data table notebook</a>'\n",
              "          + ' to learn more about interactive tables.';\n",
              "        element.innerHTML = '';\n",
              "        dataTable['output_type'] = 'display_data';\n",
              "        await google.colab.output.renderOutput(dataTable, element);\n",
              "        const docLink = document.createElement('div');\n",
              "        docLink.innerHTML = docLinkHtml;\n",
              "        element.appendChild(docLink);\n",
              "      }\n",
              "    </script>\n",
              "  </div>\n",
              "\n",
              "\n",
              "<div id=\"df-99bd3aab-9c12-419f-b47d-dd08334bb481\">\n",
              "  <button class=\"colab-df-quickchart\" onclick=\"quickchart('df-99bd3aab-9c12-419f-b47d-dd08334bb481')\"\n",
              "            title=\"Suggest charts\"\n",
              "            style=\"display:none;\">\n",
              "\n",
              "<svg xmlns=\"http://www.w3.org/2000/svg\" height=\"24px\"viewBox=\"0 0 24 24\"\n",
              "     width=\"24px\">\n",
              "    <g>\n",
              "        <path d=\"M19 3H5c-1.1 0-2 .9-2 2v14c0 1.1.9 2 2 2h14c1.1 0 2-.9 2-2V5c0-1.1-.9-2-2-2zM9 17H7v-7h2v7zm4 0h-2V7h2v10zm4 0h-2v-4h2v4z\"/>\n",
              "    </g>\n",
              "</svg>\n",
              "  </button>\n",
              "\n",
              "<style>\n",
              "  .colab-df-quickchart {\n",
              "      --bg-color: #E8F0FE;\n",
              "      --fill-color: #1967D2;\n",
              "      --hover-bg-color: #E2EBFA;\n",
              "      --hover-fill-color: #174EA6;\n",
              "      --disabled-fill-color: #AAA;\n",
              "      --disabled-bg-color: #DDD;\n",
              "  }\n",
              "\n",
              "  [theme=dark] .colab-df-quickchart {\n",
              "      --bg-color: #3B4455;\n",
              "      --fill-color: #D2E3FC;\n",
              "      --hover-bg-color: #434B5C;\n",
              "      --hover-fill-color: #FFFFFF;\n",
              "      --disabled-bg-color: #3B4455;\n",
              "      --disabled-fill-color: #666;\n",
              "  }\n",
              "\n",
              "  .colab-df-quickchart {\n",
              "    background-color: var(--bg-color);\n",
              "    border: none;\n",
              "    border-radius: 50%;\n",
              "    cursor: pointer;\n",
              "    display: none;\n",
              "    fill: var(--fill-color);\n",
              "    height: 32px;\n",
              "    padding: 0;\n",
              "    width: 32px;\n",
              "  }\n",
              "\n",
              "  .colab-df-quickchart:hover {\n",
              "    background-color: var(--hover-bg-color);\n",
              "    box-shadow: 0 1px 2px rgba(60, 64, 67, 0.3), 0 1px 3px 1px rgba(60, 64, 67, 0.15);\n",
              "    fill: var(--button-hover-fill-color);\n",
              "  }\n",
              "\n",
              "  .colab-df-quickchart-complete:disabled,\n",
              "  .colab-df-quickchart-complete:disabled:hover {\n",
              "    background-color: var(--disabled-bg-color);\n",
              "    fill: var(--disabled-fill-color);\n",
              "    box-shadow: none;\n",
              "  }\n",
              "\n",
              "  .colab-df-spinner {\n",
              "    border: 2px solid var(--fill-color);\n",
              "    border-color: transparent;\n",
              "    border-bottom-color: var(--fill-color);\n",
              "    animation:\n",
              "      spin 1s steps(1) infinite;\n",
              "  }\n",
              "\n",
              "  @keyframes spin {\n",
              "    0% {\n",
              "      border-color: transparent;\n",
              "      border-bottom-color: var(--fill-color);\n",
              "      border-left-color: var(--fill-color);\n",
              "    }\n",
              "    20% {\n",
              "      border-color: transparent;\n",
              "      border-left-color: var(--fill-color);\n",
              "      border-top-color: var(--fill-color);\n",
              "    }\n",
              "    30% {\n",
              "      border-color: transparent;\n",
              "      border-left-color: var(--fill-color);\n",
              "      border-top-color: var(--fill-color);\n",
              "      border-right-color: var(--fill-color);\n",
              "    }\n",
              "    40% {\n",
              "      border-color: transparent;\n",
              "      border-right-color: var(--fill-color);\n",
              "      border-top-color: var(--fill-color);\n",
              "    }\n",
              "    60% {\n",
              "      border-color: transparent;\n",
              "      border-right-color: var(--fill-color);\n",
              "    }\n",
              "    80% {\n",
              "      border-color: transparent;\n",
              "      border-right-color: var(--fill-color);\n",
              "      border-bottom-color: var(--fill-color);\n",
              "    }\n",
              "    90% {\n",
              "      border-color: transparent;\n",
              "      border-bottom-color: var(--fill-color);\n",
              "    }\n",
              "  }\n",
              "</style>\n",
              "\n",
              "  <script>\n",
              "    async function quickchart(key) {\n",
              "      const quickchartButtonEl =\n",
              "        document.querySelector('#' + key + ' button');\n",
              "      quickchartButtonEl.disabled = true;  // To prevent multiple clicks.\n",
              "      quickchartButtonEl.classList.add('colab-df-spinner');\n",
              "      try {\n",
              "        const charts = await google.colab.kernel.invokeFunction(\n",
              "            'suggestCharts', [key], {});\n",
              "      } catch (error) {\n",
              "        console.error('Error during call to suggestCharts:', error);\n",
              "      }\n",
              "      quickchartButtonEl.classList.remove('colab-df-spinner');\n",
              "      quickchartButtonEl.classList.add('colab-df-quickchart-complete');\n",
              "    }\n",
              "    (() => {\n",
              "      let quickchartButtonEl =\n",
              "        document.querySelector('#df-99bd3aab-9c12-419f-b47d-dd08334bb481 button');\n",
              "      quickchartButtonEl.style.display =\n",
              "        google.colab.kernel.accessAllowed ? 'block' : 'none';\n",
              "    })();\n",
              "  </script>\n",
              "</div>\n",
              "\n",
              "  <div id=\"id_57487db8-200c-4dc7-aa16-63a3eca43439\">\n",
              "    <style>\n",
              "      .colab-df-generate {\n",
              "        background-color: #E8F0FE;\n",
              "        border: none;\n",
              "        border-radius: 50%;\n",
              "        cursor: pointer;\n",
              "        display: none;\n",
              "        fill: #1967D2;\n",
              "        height: 32px;\n",
              "        padding: 0 0 0 0;\n",
              "        width: 32px;\n",
              "      }\n",
              "\n",
              "      .colab-df-generate:hover {\n",
              "        background-color: #E2EBFA;\n",
              "        box-shadow: 0px 1px 2px rgba(60, 64, 67, 0.3), 0px 1px 3px 1px rgba(60, 64, 67, 0.15);\n",
              "        fill: #174EA6;\n",
              "      }\n",
              "\n",
              "      [theme=dark] .colab-df-generate {\n",
              "        background-color: #3B4455;\n",
              "        fill: #D2E3FC;\n",
              "      }\n",
              "\n",
              "      [theme=dark] .colab-df-generate:hover {\n",
              "        background-color: #434B5C;\n",
              "        box-shadow: 0px 1px 3px 1px rgba(0, 0, 0, 0.15);\n",
              "        filter: drop-shadow(0px 1px 2px rgba(0, 0, 0, 0.3));\n",
              "        fill: #FFFFFF;\n",
              "      }\n",
              "    </style>\n",
              "    <button class=\"colab-df-generate\" onclick=\"generateWithVariable('dataset')\"\n",
              "            title=\"Generate code using this dataframe.\"\n",
              "            style=\"display:none;\">\n",
              "\n",
              "  <svg xmlns=\"http://www.w3.org/2000/svg\" height=\"24px\"viewBox=\"0 0 24 24\"\n",
              "       width=\"24px\">\n",
              "    <path d=\"M7,19H8.4L18.45,9,17,7.55,7,17.6ZM5,21V16.75L18.45,3.32a2,2,0,0,1,2.83,0l1.4,1.43a1.91,1.91,0,0,1,.58,1.4,1.91,1.91,0,0,1-.58,1.4L9.25,21ZM18.45,9,17,7.55Zm-12,3A5.31,5.31,0,0,0,4.9,8.1,5.31,5.31,0,0,0,1,6.5,5.31,5.31,0,0,0,4.9,4.9,5.31,5.31,0,0,0,6.5,1,5.31,5.31,0,0,0,8.1,4.9,5.31,5.31,0,0,0,12,6.5,5.46,5.46,0,0,0,6.5,12Z\"/>\n",
              "  </svg>\n",
              "    </button>\n",
              "    <script>\n",
              "      (() => {\n",
              "      const buttonEl =\n",
              "        document.querySelector('#id_57487db8-200c-4dc7-aa16-63a3eca43439 button.colab-df-generate');\n",
              "      buttonEl.style.display =\n",
              "        google.colab.kernel.accessAllowed ? 'block' : 'none';\n",
              "\n",
              "      buttonEl.onclick = () => {\n",
              "        google.colab.notebook.generateWithVariable('dataset');\n",
              "      }\n",
              "      })();\n",
              "    </script>\n",
              "  </div>\n",
              "\n",
              "    </div>\n",
              "  </div>\n"
            ],
            "application/vnd.google.colaboratory.intrinsic+json": {
              "type": "dataframe",
              "variable_name": "dataset",
              "summary": "{\n  \"name\": \"dataset\",\n  \"rows\": 8057,\n  \"fields\": [\n    {\n      \"column\": \"Date\",\n      \"properties\": {\n        \"dtype\": \"category\",\n        \"num_unique_values\": 336,\n        \"samples\": [\n          \"19/02/2018\",\n          \"30/03/2018\",\n          \"21/10/2018\"\n        ],\n        \"semantic_type\": \"\",\n        \"description\": \"\"\n      }\n    },\n    {\n      \"column\": \"Rented Bike Count\",\n      \"properties\": {\n        \"dtype\": \"number\",\n        \"std\": 644,\n        \"min\": 2,\n        \"max\": 3556,\n        \"num_unique_values\": 2147,\n        \"samples\": [\n          1333,\n          2170,\n          1130\n        ],\n        \"semantic_type\": \"\",\n        \"description\": \"\"\n      }\n    },\n    {\n      \"column\": \"Hour\",\n      \"properties\": {\n        \"dtype\": \"number\",\n        \"std\": 6,\n        \"min\": 0,\n        \"max\": 23,\n        \"num_unique_values\": 24,\n        \"samples\": [\n          8,\n          16,\n          0\n        ],\n        \"semantic_type\": \"\",\n        \"description\": \"\"\n      }\n    },\n    {\n      \"column\": \"Temperature(\\u00b0C)\",\n      \"properties\": {\n        \"dtype\": \"number\",\n        \"std\": 12.123626770019005,\n        \"min\": -17.8,\n        \"max\": 39.4,\n        \"num_unique_values\": 545,\n        \"samples\": [\n          16.1,\n          -7.5,\n          12.5\n        ],\n        \"semantic_type\": \"\",\n        \"description\": \"\"\n      }\n    },\n    {\n      \"column\": \"Humidity(%)\",\n      \"properties\": {\n        \"dtype\": \"number\",\n        \"std\": 20,\n        \"min\": 0,\n        \"max\": 98,\n        \"num_unique_values\": 90,\n        \"samples\": [\n          85,\n          82,\n          28\n        ],\n        \"semantic_type\": \"\",\n        \"description\": \"\"\n      }\n    },\n    {\n      \"column\": \"Wind speed (m/s)\",\n      \"properties\": {\n        \"dtype\": \"number\",\n        \"std\": 1.0264127444942353,\n        \"min\": 0.0,\n        \"max\": 7.4,\n        \"num_unique_values\": 65,\n        \"samples\": [\n          0.2,\n          7.2,\n          2.2\n        ],\n        \"semantic_type\": \"\",\n        \"description\": \"\"\n      }\n    },\n    {\n      \"column\": \"Visibility (10m)\",\n      \"properties\": {\n        \"dtype\": \"number\",\n        \"std\": 607,\n        \"min\": 27,\n        \"max\": 2000,\n        \"num_unique_values\": 1766,\n        \"samples\": [\n          103,\n          1058,\n          680\n        ],\n        \"semantic_type\": \"\",\n        \"description\": \"\"\n      }\n    },\n    {\n      \"column\": \"Solar Radiation (MJ/m2)\",\n      \"properties\": {\n        \"dtype\": \"number\",\n        \"std\": 0.8684722214600493,\n        \"min\": 0.0,\n        \"max\": 3.52,\n        \"num_unique_values\": 345,\n        \"samples\": [\n          2.61,\n          1.9,\n          2.78\n        ],\n        \"semantic_type\": \"\",\n        \"description\": \"\"\n      }\n    },\n    {\n      \"column\": \"Rainfall(mm)\",\n      \"properties\": {\n        \"dtype\": \"number\",\n        \"std\": 1.144871807435398,\n        \"min\": 0.0,\n        \"max\": 35.0,\n        \"num_unique_values\": 61,\n        \"samples\": [\n          0.0,\n          0.2,\n          12.0\n        ],\n        \"semantic_type\": \"\",\n        \"description\": \"\"\n      }\n    },\n    {\n      \"column\": \"Snowfall (cm)\",\n      \"properties\": {\n        \"dtype\": \"number\",\n        \"std\": 0.4523851107797053,\n        \"min\": 0.0,\n        \"max\": 8.8,\n        \"num_unique_values\": 50,\n        \"samples\": [\n          4.3,\n          2.8,\n          2.2\n        ],\n        \"semantic_type\": \"\",\n        \"description\": \"\"\n      }\n    },\n    {\n      \"column\": \"Day of the week\",\n      \"properties\": {\n        \"dtype\": \"number\",\n        \"std\": 2,\n        \"min\": 0,\n        \"max\": 6,\n        \"num_unique_values\": 7,\n        \"samples\": [\n          4,\n          5,\n          2\n        ],\n        \"semantic_type\": \"\",\n        \"description\": \"\"\n      }\n    }\n  ]\n}"
            }
          },
          "metadata": {},
          "execution_count": 11
        }
      ],
      "source": [
        "dataset"
      ]
    },
    {
      "cell_type": "markdown",
      "metadata": {
        "id": "gP_nRLLxhXRY"
      },
      "source": [
        "The column of \"Rented Bike Count\" will be our labels ($\\text{y}$) all the rest except for the \"Date\" will be our measurements ($\\mathbf{x}$).\n",
        "\n",
        "**Think**: Why would learning to make predictions based on the date be a bad thing?\n",
        "\n",
        "✍️ Complete the code in order to create a list named \"x_field\", which contain the name of the fields which we would like to use as the measurements:"
      ]
    },
    {
      "cell_type": "code",
      "execution_count": 13,
      "metadata": {
        "id": "d3lavhWbhXRZ"
      },
      "outputs": [],
      "source": [
        "y_field = 'Rented Bike Count'\n",
        "## %%%%%%%%%%%%%%% Your code here - Begin %%%%%%%%%%%%%%%\n",
        "## Fill in the name of the relevant fields.\n",
        "x_fields = ['Hour', 'Temperature(°C)', 'Wind speed (m/s)' , 'Visibility (10m)' , 'Rainfall(mm)' , 'Snowfall (cm)' ]\n",
        "## %%%%%%%%%%%%%%% Your code here - End %%%%%%%%%%%%%%%%%"
      ]
    },
    {
      "cell_type": "markdown",
      "metadata": {
        "id": "JTN2H9_ThXRa"
      },
      "source": [
        "### Plotting the $\\text{y}$ vs. each one of the fields\n",
        "\n",
        "In order to get a fell of the data (values ranges, distribution across the range, etc.) let's create a plot for the values in each field with the matching values of $\\text{y}$:"
      ]
    },
    {
      "cell_type": "code",
      "execution_count": 14,
      "metadata": {
        "scrolled": false,
        "id": "KUhPwFvRhXRb",
        "outputId": "12d5e680-2043-4918-f14f-8a2d80bdc702",
        "colab": {
          "base_uri": "https://localhost:8080/",
          "height": 1000
        }
      },
      "outputs": [
        {
          "output_type": "display_data",
          "data": {
            "text/plain": [
              "<Figure size 1080x1080 with 9 Axes>"
            ],
            "image/png": "[encoded data removed]"
          },
          "metadata": {}
        }
      ],
      "source": [
        "fig, axes = plt.subplots(3, 3, figsize=(9, 9))  # Create a figure with 3 over 3 axes\n",
        "axes = axes.flatten()  # Convert the object storing the axes for a 3 by 3 array into a 1D array of lenth 9.\n",
        "\n",
        "for i_field, field in enumerate(x_fields):\n",
        "    ax = axes[i_field]\n",
        "    ax.plot(dataset[field].values, dataset['Rented Bike Count'].values, '.', markersize=1)\n",
        "    ax.set_xlabel(field)\n",
        "    ax.set_ylabel('Rented Bike Count')\n",
        "fig.tight_layout()"
      ]
    },
    {
      "cell_type": "markdown",
      "metadata": {
        "id": "KPGBzjhKhXRc"
      },
      "source": [
        "## Train-test split\n",
        "\n",
        "Before we start building our model we shall first divide the dataset into 80% train and 20% train.\n",
        "\n",
        "**Note**: we will use the name train_full to indicate the train set before splitting it into train and validation."
      ]
    },
    {
      "cell_type": "code",
      "execution_count": 16,
      "metadata": {
        "id": "vrpB2qJohXRd"
      },
      "outputs": [],
      "source": [
        "n_samples = len(dataset)  # The total number of samples in the dataset\n",
        "\n",
        "## Generate a random generator with a fixed seed\n",
        "rand_gen = np.random.RandomState(0)\n",
        "\n",
        "## Generating a shuffled vector of indices\n",
        "indices = np.arange(n_samples)\n",
        "rand_gen.shuffle(indices)\n",
        "\n",
        "## Split the indices into 80% train (full) / 20% test\n",
        "n_samples_train_full = int(n_samples * 0.8)\n",
        "train_full_indices = indices[:n_samples_train_full]\n",
        "test_indices = indices[n_samples_train_full:]\n",
        "\n",
        "## Extract the sub datasets from the full dataset using the calculated indices\n",
        "train_full_set = dataset.iloc[train_full_indices]\n",
        "test_set = dataset.iloc[test_indices]"
      ]
    },
    {
      "cell_type": "markdown",
      "metadata": {
        "id": "hf70YOKlhXRd"
      },
      "source": [
        "## Train - validation split\n",
        "\n",
        "Since we plan to test different configuration of building our model we would like to further split the train set into 75% train and 25% validation set. (which will result in a 60%-20%-20% over all split).\n",
        "\n",
        "✍️ Complete the following code to create a train-validation split similar to the train-test split above:"
      ]
    },
    {
      "cell_type": "code",
      "execution_count": 17,
      "metadata": {
        "id": "RbuexPIzhXRe"
      },
      "outputs": [],
      "source": [
        "## Generate a random generator with a fixed (different) seed\n",
        "rand_gen = np.random.RandomState(1)\n",
        "\n",
        "## Generating a shuffled vector of indices\n",
        "indices = train_full_indices.copy()\n",
        "rand_gen.shuffle(indices)\n",
        "\n",
        "## %%%%%%%%%%%%%%% Your code here - Begin %%%%%%%%%%%%%%%\n",
        "## Split the indices of the train (full) dataset into 75% train / 25% validation\n",
        "n_samples_train = int(n_samples_train_full * 0.75)\n",
        "train_indices = indices[:n_samples_train]\n",
        "val_indices = indices[n_samples_train:]\n",
        "## %%%%%%%%%%%%%%% Your code here - End %%%%%%%%%%%%%%%%%\n",
        "\n",
        "## Extract the sub datasets from the full dataset using the calculated indices\n",
        "train_set = dataset.iloc[train_indices]\n",
        "val_set = dataset.iloc[val_indices]"
      ]
    },
    {
      "cell_type": "markdown",
      "metadata": {
        "id": "JT0qenVUhXRf"
      },
      "source": [
        "## Training an LLS model based on a single field\n",
        "\n",
        "As a warm up, we shall start with building a linear predictor using only the temperature field for the dataset. In other words we would like to use the following parametric model:\n",
        "\n",
        "$$\n",
        "\\hat{y}=h_{\\boldsymbol{\\theta}}(\\boldsymbol{x})=\\theta_1+\\theta_2 x_{\\text{temperature}}\n",
        "$$"
      ]
    },
    {
      "cell_type": "markdown",
      "metadata": {
        "id": "nXkY_LGqhXRg"
      },
      "source": [
        "### Building the $X$ matrix and the $\\boldsymbol{y}$ vector\n",
        "\n",
        "Since we would like our model to also have a bias term, we would like to construct an $X$ matrix with a column containing the temperature field and a column containing ones.\n",
        "\n",
        "The following code constructs the $X$ matrix and the $\\boldsymbol{y}$ vector:"
      ]
    },
    {
      "cell_type": "code",
      "execution_count": null,
      "metadata": {
        "id": "yCgJm7tYhXRg"
      },
      "outputs": [],
      "source": [
        "## Create a list of all the features we would like X to contain\n",
        "features = []\n",
        "features.append(np.ones(len(dataset)))\n",
        "features.append(dataset['Temperature(°C)'].values)\n",
        "\n",
        "## Stack all the features side by side to create X\n",
        "x_train = np.stack(features, axis=1)\n",
        "\n",
        "## Extract the y vector form the dataset\n",
        "y_train = train_set[y_field].values"
      ]
    },
    {
      "cell_type": "markdown",
      "metadata": {
        "id": "jAlk0Hb4hXRh"
      },
      "source": [
        "Printing first 10 samples in $X$ and $\\boldsymbol{y}$:"
      ]
    },
    {
      "cell_type": "code",
      "execution_count": null,
      "metadata": {
        "id": "UBZ5tIeQhXRh"
      },
      "outputs": [],
      "source": [
        "print('The X matrix:')\n",
        "print(x_train[:10])\n",
        "print('\\nThe y vector:')\n",
        "print(y_train[:10])"
      ]
    },
    {
      "cell_type": "markdown",
      "metadata": {
        "id": "LHI3yqJ4hXRi"
      },
      "source": [
        "#### Putting it in a function\n",
        "\n",
        "Here we have constructed $X$ and $\\boldsymbol{y}$ for the train set. Since we would later like to repeat the process for the validation and the test set as well it would be better if we would create a function which receives a dataset (a DataFrame) and extracts $X$ and $\\boldsymbol{y}$.\n",
        "\n",
        "✍️ Complete the following code to create this function:"
      ]
    },
    {
      "cell_type": "code",
      "execution_count": null,
      "metadata": {
        "id": "i73e1jOVhXRj"
      },
      "outputs": [],
      "source": [
        "def extract_x_y(dataset):\n",
        "    ## %%%%%%%%%%%%%%% Your code here - Begin %%%%%%%%%%%%%%%\n",
        "    ## make sure the you use dataset here and not train_set\n",
        "    features = []\n",
        "    ...\n",
        "    x = ...\n",
        "    y = ...\n",
        "    ## %%%%%%%%%%%%%%% Your code here - End %%%%%%%%%%%%%%%%%\n",
        "    return x, y\n",
        "\n",
        "x_train, y_train = extract_x_y(train_set)"
      ]
    },
    {
      "cell_type": "markdown",
      "metadata": {
        "id": "5CU-8u0shXRk"
      },
      "source": [
        "### Calculating the model's parameters\n",
        "\n",
        "✍️ Use *x_train* and *y_train* to calculate the optimal parameters $\\boldsymbol{\\theta}$ as we learned in class.\n",
        "\n",
        "Useful Numpy functions:\n",
        "\n",
        "- *A.T* calculates the transpose of A.\n",
        "-  *A@B* performs a matrix multiplication between A and B.\n",
        "- np.linalg.inv(A) calculates the inverse matrix of A"
      ]
    },
    {
      "cell_type": "code",
      "execution_count": null,
      "metadata": {
        "id": "XsxQHAkXhXRl"
      },
      "outputs": [],
      "source": [
        "## Calcualting theta\n",
        "## %%%%%%%%%%%%%%% Your code here - Begin %%%%%%%%%%%%%%%\n",
        "theta = ...\n",
        "## %%%%%%%%%%%%%%% Your code here - End %%%%%%%%%%%%%%%%%\n",
        "print(theta)"
      ]
    },
    {
      "cell_type": "markdown",
      "metadata": {
        "id": "uOJnbzbohXRm"
      },
      "source": [
        "### Using a more numerical efficient calculation\n",
        "\n",
        "The equation we have showed in class for calculating $\\boldsymbol{\\theta}$ from $X$ and $\\boldsymbol{y}$ is mathematically correct but it is not the most efficient and numerically stable way to to find the optimal $\\boldsymbol{\\theta}$ minimizing $\\lVert X\\boldsymbol{\\theta}-\\boldsymbol{y}\\rVert_2^2$. In general when performing numerical calculation we would prefer to avoid inverting matrices.\n",
        "\n",
        "The Numpy function *np.linalg.lstsq* solve the least squares problem in a much more efficient and stable way. Therefore we would prefer calculating $\\boldsymbol{\\theta}$ in the following way:"
      ]
    },
    {
      "cell_type": "code",
      "execution_count": null,
      "metadata": {
        "id": "OylMxArbhXRm"
      },
      "outputs": [],
      "source": [
        "theta, _, _, _ = np.linalg.lstsq(x_train, y_train, rcond=None)\n",
        "print(theta)"
      ]
    },
    {
      "cell_type": "markdown",
      "metadata": {
        "id": "IRErSERnhXRn"
      },
      "source": [
        "Make sure you got the same results in your calculation as the *np.linalg.lstsq* function.\n",
        "\n",
        "- The *rcond=None* argument was added to suppress some error which is related to some recent changes which were made in the Numpy package.\n",
        "- The *np.linalg.lstsq* function return 4 outputs (the other 3 outputs are related to the quality of the solution). The \", _, _, _\" phrase which appears in the above equation tells Python to expect 4 outputs but to ignore the last 3.\n",
        "\n",
        "The full documentation of the *np.linalg.lstsq* function can be found [here](https://numpy.org/doc/stable/reference/generated/numpy.linalg.lstsq.html)"
      ]
    },
    {
      "cell_type": "markdown",
      "metadata": {
        "id": "5du7T0UDhXRo"
      },
      "source": [
        "### Making predictions\n",
        "\n",
        "✍️ Use *theta* and *x_train* to calculate the predicted number of rents, $\\hat{y}$, on the train set.\n",
        "\n",
        "- Use the *@* operator."
      ]
    },
    {
      "cell_type": "code",
      "execution_count": null,
      "metadata": {
        "id": "rc1hfdC-hXRo"
      },
      "outputs": [],
      "source": [
        "## %%%%%%%%%%%%%%% Your code here - Begin %%%%%%%%%%%%%%%\n",
        "y_hat_train = ...\n",
        "## %%%%%%%%%%%%%%% Your code here - End %%%%%%%%%%%%%%%%%\n",
        "\n",
        "## Printing the predictions and the true values of the 20 first samples\n",
        "print(f'Predictions: {y_hat_train[:10].astype(int)}')\n",
        "print(f'Predictions: {y_train[:10]}')"
      ]
    },
    {
      "cell_type": "markdown",
      "metadata": {
        "id": "Cy04Q_Y9hXRp"
      },
      "source": [
        "### Building a class\n",
        "\n",
        "To make building the model and making prediction simpler we shall build a class which will hold the learned model and will have two methods:\n",
        "\n",
        "- **fit**: which will receive $X$ and $\\boldsymbol{y}$ and use them to lean the optimal parameters.\n",
        "- **predict** which will receive $X$ and produce $\\hat{y}$.\n",
        "\n",
        "✍️ Complete the missing line in the following code based on the prediction function you wrote above."
      ]
    },
    {
      "cell_type": "code",
      "execution_count": null,
      "metadata": {
        "id": "1VJGXxN7hXRq"
      },
      "outputs": [],
      "source": [
        "class LLS:  # Defining a new class named LLS\n",
        "    def __init__(self):  # This function is executed when the object is created\n",
        "        ## Defining and initizaling the classes inner variables\n",
        "        self.theta = None  # Theta will hold the learned model parameters.\n",
        "\n",
        "    def fit(self, x, y):\n",
        "        self.theta, _, _, _ = np.linalg.lstsq(x, y, rcond=None)\n",
        "\n",
        "    def predict(self, x):\n",
        "        ## %%%%%%%%%%%%%%% Your code here - Begin %%%%%%%%%%%%%%%\n",
        "        ## Make sure you use x here and not x_train\n",
        "        y_hat = ...\n",
        "        ## %%%%%%%%%%%%%%% Your code here - End %%%%%%%%%%%%%%%%%\n",
        "        return y_hat"
      ]
    },
    {
      "cell_type": "markdown",
      "metadata": {
        "id": "ZiAhwSs-hXRr"
      },
      "source": [
        "Let's use our new class for training a model and making predictions"
      ]
    },
    {
      "cell_type": "code",
      "execution_count": null,
      "metadata": {
        "id": "QsBKqJMuhXRr"
      },
      "outputs": [],
      "source": [
        "model = LLS()\n",
        "model.fit(x_train, y_train)\n",
        "\n",
        "y_hat_train = model.predict(x_train)\n",
        "\n",
        "## Printing the predictions and the true values of the 20 first samples\n",
        "print(y_hat_train[:10].astype(int))\n",
        "print(y_train[:10])"
      ]
    },
    {
      "cell_type": "markdown",
      "metadata": {
        "id": "85JXdhUJhXRs"
      },
      "source": [
        "Make sure you got the same results as before"
      ]
    },
    {
      "cell_type": "markdown",
      "metadata": {
        "id": "JgVC0Yf3hXRs"
      },
      "source": [
        "### Evaluation\n",
        "\n",
        "✍️ Complete the function bellow so it will evaluate the RMSE score for a given model (an LLS object) and a given pair of $X$ and $\\boldsymbol{y}$:\n",
        "\n",
        "- **Reminder**: the RMSE score is given by $\\sqrt{\\tfrac{1}{N}\\sum_i (\\hat{y}_i-y_i)^2}$"
      ]
    },
    {
      "cell_type": "code",
      "execution_count": null,
      "metadata": {
        "id": "nn5wQUc1hXRt"
      },
      "outputs": [],
      "source": [
        "def calc_rmse(model, x, y):\n",
        "    ## %%%%%%%%%%%%%%% Your code here - Begin %%%%%%%%%%%%%%%\n",
        "    y_hat = model.predict(...\n",
        "    rmse = ...\n",
        "    ## %%%%%%%%%%%%%%% Your code here - End %%%%%%%%%%%%%%%%%\n",
        "    return rmse"
      ]
    },
    {
      "cell_type": "markdown",
      "metadata": {
        "id": "RmdNnyzVhXRt"
      },
      "source": [
        "Lets use this function to calculate the train and the validation scores:"
      ]
    },
    {
      "cell_type": "code",
      "execution_count": null,
      "metadata": {
        "id": "G_Ns8LhghXRu"
      },
      "outputs": [],
      "source": [
        "## Calculate the model's rmse on the train set\n",
        "print(f'The train score is: {calc_rmse(model, x_train, y_train):.2f}')\n",
        "\n",
        "## Extract x_val and y_val form val_set\n",
        "x_val, y_val = extract_x_y(val_set)\n",
        "\n",
        "## Calculate the model's rmse on the validation set\n",
        "print(f'The validation score is: {calc_rmse(model, x_val, y_val):.2f}')"
      ]
    },
    {
      "cell_type": "markdown",
      "metadata": {
        "id": "DILxNFS1hXRv"
      },
      "source": [
        "### Using the scikit-learn package\n",
        "\n",
        "The [scikit-learn package](https://scikit-learn.org/stable/) (which appears as sklearn in Python) is a popular Python package for applying machine-learning algorithms. The package contains almost all the algorithms which we will cover in this course.\n",
        "\n",
        "We will use this package in many places in these assignments.\n",
        "\n",
        "The scikit-learn package has an implementation of a [LinearRegression](https://scikit-learn.org/stable/modules/generated/sklearn.linear_model.LinearRegression.html) class which is very similar to the one we wrote. Let's try using this implementation and compare our results.\n",
        "\n",
        "**notes**:\n",
        "\n",
        "- We will usually only import from scikit-learn the specific class \\ function we need rather then the full package. This is done using the following syntax: \"from sklearn.linear_model import LinearRegression\"\n",
        "- The LinearRegression class added the the bias term by default, since we have already added it ourselves we will tell the class not to add it by using the \"fit_intercept=False\" argument when creating the model.\n",
        "- We will import from scikit-learn two more classes we will need to use in the following assigments, 'make_pipeline' and 'StandarScaler'."
      ]
    },
    {
      "cell_type": "code",
      "execution_count": null,
      "metadata": {
        "id": "zGAsfoQEhXRv"
      },
      "outputs": [],
      "source": [
        "from sklearn.linear_model import LinearRegression\n",
        "from sklearn.pipeline import make_pipeline\n",
        "from sklearn.preprocessing import StandardScaler\n",
        "\n",
        "model = LinearRegression(fit_intercept=False)\n",
        "model.fit(x_train, y_train)\n",
        "\n",
        "print(f'The train score is: {calc_rmse(model, x_train, y_train):.2f}')\n",
        "print(f'The validation score is: {calc_rmse(model, x_val, y_val):.2f}')"
      ]
    },
    {
      "cell_type": "markdown",
      "metadata": {
        "id": "ndQgc7AehXRw"
      },
      "source": [
        "Make sure you got the same results as before"
      ]
    },
    {
      "cell_type": "markdown",
      "metadata": {
        "id": "f1DiIvmbhXRw"
      },
      "source": [
        "## Using all features\n",
        "\n",
        "Up until now we have only used the temperature files from the dataset. We would now like to expend our model to include all features:\n",
        "\n",
        "$$\n",
        "\\hat{y}=h_{\\boldsymbol{\\theta}}(\\boldsymbol{x})\n",
        "=\\theta_1\n",
        "+\\theta_2 x_{\\text{hour}}\n",
        "+\\theta_3 x_{\\text{temperature}}\n",
        "+\\theta_4 x_{\\text{humidity}}\n",
        "+\\dots\n",
        "$$\n",
        "\n",
        "✍️ Update the \"extract_x_y\" function so that it will produce new $X$ which has a field for each column.\n",
        "\n",
        "- Do not add the ones column (the bias column). We will let the LinearRegression add it by itself."
      ]
    },
    {
      "cell_type": "code",
      "execution_count": null,
      "metadata": {
        "id": "zeN31ogbhXRx"
      },
      "outputs": [],
      "source": [
        "def extract_x_y(dataset):\n",
        "    ## %%%%%%%%%%%%%%% Your code here - Begin %%%%%%%%%%%%%%%\n",
        "    features = []\n",
        "    for field in x_fields:\n",
        "        features.append(...\n",
        "\n",
        "    x = ...\n",
        "    y = ...\n",
        "    ## %%%%%%%%%%%%%%% Your code here - End %%%%%%%%%%%%%%%%%\n",
        "    return x, y"
      ]
    },
    {
      "cell_type": "markdown",
      "metadata": {
        "id": "qTYOKHC5hXRy"
      },
      "source": [
        "Let's train and evaluate the linear model using the new features.\n",
        "\n",
        "- We have removed the \"fit_intercept=False\" argument so that the LinearRegression will add a bias term.\n",
        "- We would like to normalize each column of $X$, making the learning process of the parameters more stable (ask yourself why?). In order to do it we will use 'make_pipeline' and 'StandardSvaler' which we alredy imported."
      ]
    },
    {
      "cell_type": "code",
      "execution_count": null,
      "metadata": {
        "id": "VzdiphuvhXRy"
      },
      "outputs": [],
      "source": [
        "x_train, y_train = extract_x_y(train_set)\n",
        "x_val, y_val = extract_x_y(val_set)\n",
        "\n",
        "model = make_pipeline(StandardScaler(with_mean=False), LinearRegression())\n",
        "model.fit(x_train, y_train)\n",
        "\n",
        "print(f'The train score is: {calc_rmse(model, x_train, y_train):.2f}')\n",
        "print(f'The validation score is: {calc_rmse(model, x_val, y_val):.2f}')"
      ]
    },
    {
      "cell_type": "markdown",
      "metadata": {
        "id": "ipUvpxPShXRz"
      },
      "source": [
        "**Check**: Have the result improve? Both of them?"
      ]
    },
    {
      "cell_type": "markdown",
      "metadata": {
        "id": "Eu1Yg-z7hXR0"
      },
      "source": [
        "## Adding second order features\n",
        "\n",
        "Now let's try to use a parametric model which is a second order polynomial of the fields in the dataset.\n",
        "\n",
        "$$\n",
        "\\hat{y}=h_{\\boldsymbol{\\theta}}(\\boldsymbol{x})\n",
        "=\\theta_1\n",
        "+\\theta_2 x_{\\text{hour}}\n",
        "+\\theta_3 x_{\\text{temperature}}\n",
        "+\\theta_4 x_{\\text{hour}}^2\n",
        "+\\theta_5 x_{\\text{temperature}}^2\n",
        "+\\theta_6 x_{\\text{hour}}x_{\\text{temperature}}\n",
        "+\\dots\n",
        "$$\n",
        "\n",
        "✍️ Update the \"extract_x_y\" function so that $X$ will include all the term which should appear in a second order polynomial of the features in the dataset."
      ]
    },
    {
      "cell_type": "code",
      "execution_count": null,
      "metadata": {
        "id": "MHK8eZdohXR1"
      },
      "outputs": [],
      "source": [
        "def extract_x_y(dataset):\n",
        "    ## %%%%%%%%%%%%%%% Your code here - Begin %%%%%%%%%%%%%%%\n",
        "    features = []\n",
        "    ## Adding first order features\n",
        "    for field in x_fields:\n",
        "        features.append(...\n",
        "    ## Adding second order features\n",
        "    for field1 in x_fields:\n",
        "       for field2 in x_fields:\n",
        "           features.append(...\n",
        "\n",
        "    x = ...\n",
        "    y = ...\n",
        "    ## %%%%%%%%%%%%%%% Your code here - End %%%%%%%%%%%%%%%%%\n",
        "    return x, y\n",
        "\n",
        "x_train, y_train = extract_x_y(train_set)\n",
        "x_val, y_val = extract_x_y(val_set)\n",
        "\n",
        "model = make_pipeline(StandardScaler(with_mean=False), LinearRegression())\n",
        "model.fit(x_train, y_train)\n",
        "\n",
        "print(f'The train score is: {calc_rmse(model, x_train, y_train):.2f}')\n",
        "print(f'The validation score is: {calc_rmse(model, x_val, y_val):.2f}')"
      ]
    },
    {
      "cell_type": "markdown",
      "metadata": {
        "id": "yLW-3B80hXR2"
      },
      "source": [
        "**Check**: Have the result improve? Both of them?"
      ]
    },
    {
      "cell_type": "markdown",
      "metadata": {
        "id": "Iv5_HH5fhXR2"
      },
      "source": [
        "## Adding third order features\n",
        "\n",
        "Now let's try to use a parametric model which is a third order polynomial of the fields in the dataset.\n",
        "\n",
        "✍️ Update the \"extract_x_y\" function so that $X$ will include all the term which should appear in a third order polynomial of the features in the dataset."
      ]
    },
    {
      "cell_type": "code",
      "execution_count": null,
      "metadata": {
        "id": "fZmk_GzihXR3"
      },
      "outputs": [],
      "source": [
        "def extract_x_y(dataset):\n",
        "    ## %%%%%%%%%%%%%%% Your code here - Begin %%%%%%%%%%%%%%%\n",
        "    features = []\n",
        "    ## Adding first order features\n",
        "    for field in x_fields:\n",
        "        features.append(...\n",
        "    ## Adding second order features\n",
        "    for field1 in x_fields:\n",
        "       for field2 in x_fields:\n",
        "           features.append(...\n",
        "    ## Adding third order features\n",
        "    for field1 in x_fields:\n",
        "        for field2 in x_fields:\n",
        "            for field3 in x_fields:\n",
        "                features.append(...\n",
        "\n",
        "    x = ...\n",
        "    y = ...\n",
        "    ## %%%%%%%%%%%%%%% Your code here - End %%%%%%%%%%%%%%%%%\n",
        "    return x, y\n",
        "\n",
        "x_train, y_train = extract_x_y(train_set)\n",
        "x_val, y_val = extract_x_y(val_set)\n",
        "\n",
        "model = make_pipeline(StandardScaler(with_mean=False), LinearRegression())\n",
        "model.fit(x_train, y_train)\n",
        "\n",
        "print(f'The train score is: {calc_rmse(model, x_train, y_train):.2f}')\n",
        "print(f'The validation score is: {calc_rmse(model, x_val, y_val):.2f}')"
      ]
    },
    {
      "cell_type": "markdown",
      "metadata": {
        "id": "O1Z73OVuhXR4"
      },
      "source": [
        "**Check**: If you implemented every thing correctly the results here should not have improved. What happened? (you do not have to write down the answer, just make sure you know the answer)"
      ]
    },
    {
      "cell_type": "markdown",
      "metadata": {
        "id": "8OgUECw5hXR4"
      },
      "source": [
        "## Ridge - $l_2$ regularization\n",
        "\n",
        "Let's try adding an $l_2$ regularization. We can do so by simply replacing the *LinearRegression* class we have been using with the scikit-learn package of [*Ridge*](https://scikit-learn.org/stable/modules/generated/sklearn.linear_model.Lasso.html).\n",
        "\n",
        "The *Ridge* class works just the same as the *LinearRegression* class except that we need to give it the an argument *alpha* which is the regularization coefficient. In our course we use $\\lambda$ for this coefficient.\n",
        "\n",
        "Just as a quick check, let's try training a model using Ridge with $\\lambda=0$.\n",
        "\n",
        "**Think**: what results do you expect to get?"
      ]
    },
    {
      "cell_type": "code",
      "execution_count": null,
      "metadata": {
        "id": "26dFQP7ihXR5"
      },
      "outputs": [],
      "source": [
        "from sklearn.linear_model import Ridge\n",
        "\n",
        "model = make_pipeline(StandardScaler(with_mean=False), Ridge(alpha=0))\n",
        "model.fit(x_train, y_train)\n",
        "\n",
        "print(f'The train score is: {calc_rmse(model, x_train, y_train):.2f}')\n",
        "print(f'The validation score is: {calc_rmse(model, x_val, y_val):.2f}')"
      ]
    },
    {
      "cell_type": "markdown",
      "metadata": {
        "id": "66SUiC0ghXR6"
      },
      "source": [
        "## Selecting $\\lambda$"
      ]
    },
    {
      "cell_type": "markdown",
      "metadata": {
        "id": "ZbuUDtDGhXR6"
      },
      "source": [
        "To select $\\lambda$ we will simply try a set of values and check how well they perform on the validation set.\n",
        "\n",
        "✍️ Complete the following code to calculate the train and validation scores for the given list of values if $\\lambda$:"
      ]
    },
    {
      "cell_type": "code",
      "execution_count": null,
      "metadata": {
        "id": "U0PONjHehXR7"
      },
      "outputs": [],
      "source": [
        "## The list of lambdas to test\n",
        "lambdas_list = [3, 1, 0.3, 0.1, 0.03, 0.01, 0.003, 0.001, 0.0003, 0.0001]\n",
        "\n",
        "## We will use these to dictionaries to store the results for each lambda\n",
        "train_scores = {}\n",
        "val_scores = {}\n",
        "\n",
        "for lambda_value in lambdas_list:\n",
        "    model = make_pipeline(StandardScaler(with_mean=False), Ridge(alpha=lambda_value))\n",
        "\n",
        "    model.fit(x_train, y_train)\n",
        "\n",
        "    train_scores[lambda_value] = calc_rmse(model, x_train, y_train)\n",
        "    val_scores[lambda_value] = calc_rmse(model, x_val, y_val)"
      ]
    },
    {
      "cell_type": "code",
      "execution_count": null,
      "metadata": {
        "id": "WaoU51HhhXR7"
      },
      "outputs": [],
      "source": [
        "fig, ax = plt.subplots()\n",
        "ax.set_xscale('log')\n",
        "ax.plot(list(train_scores.keys()), list(train_scores.values()), label='Train')\n",
        "ax.plot(list(val_scores.keys()), list(val_scores.values()), label='Validation')\n",
        "ax.set_ylabel('RMSE')\n",
        "ax.set_xlabel('$\\lambda$')\n",
        "ax.set_title('Score vs. $\\lambda$')\n",
        "ax.legend();"
      ]
    },
    {
      "cell_type": "markdown",
      "metadata": {
        "id": "fgNIRSPKhXR8"
      },
      "source": [
        "The following code selects the $\\lambda$ with the lowest validation score"
      ]
    },
    {
      "cell_type": "code",
      "execution_count": null,
      "metadata": {
        "id": "Lu9mV19-hXR9"
      },
      "outputs": [],
      "source": [
        "best_lambda = min(val_scores.keys(), key=val_scores.get)\n",
        "print(f'The best lambda is: {best_lambda}, with a validation score of {val_scores[best_lambda]:.2f}')"
      ]
    },
    {
      "cell_type": "markdown",
      "metadata": {
        "id": "LydCa8TnhXR9"
      },
      "source": [
        "## LASSO - $l_1$ regularization\n",
        "\n",
        "We can also test $l_1$ regularization using the *Lasso* class in scikit-learn.\n",
        "\n",
        "As we learned in class LASSO has no close form solution and we must use numerical methods to solve it. Scikit-learn uses an iterative algorithm called [coordinate descent](https://en.wikipedia.org/wiki/Coordinate_descent) to find the solution. The smaller $\\lambda$ is the more steps it takes the algorithm to converge.\n",
        "\n",
        "In general we would also want to test different values of $\\lambda$ for LASSO as well, but since LASSO takes slightly longer to learn, we shall save you the time of running the algorithm multiple times, and we shall only test $\\lambda=0.01$.\n",
        "\n",
        "In order to make the algorithm converge we will need to increase the maximal number of iteration it can use. We will do so using the *max_iter* argument:\n",
        "\n",
        "(Running his cell can take about **20 min**)."
      ]
    },
    {
      "cell_type": "code",
      "execution_count": null,
      "metadata": {
        "id": "gD_f1HrkhXR-"
      },
      "outputs": [],
      "source": [
        "from sklearn.linear_model import Lasso\n",
        "\n",
        "model = make_pipeline(StandardScaler(with_mean=False), Lasso(alpha=0.01, max_iter=100000))\n",
        "model.fit(x_train, y_train)\n",
        "\n",
        "print(f'The train score is: {calc_rmse(model, x_train, y_train):.2f}')\n",
        "print(f'The validation score is: {calc_rmse(model, x_val, y_val):.2f}')"
      ]
    },
    {
      "cell_type": "markdown",
      "metadata": {
        "id": "BgdduGV1hXR-"
      },
      "source": [
        "## Retraining using the full train set\n",
        "\n",
        "✍️ In order to produce the final model select the method which gave the best score on the validation set and train a model using this method and the train_full_set."
      ]
    },
    {
      "cell_type": "code",
      "execution_count": null,
      "metadata": {
        "id": "bJs6YlT1hXR_"
      },
      "outputs": [],
      "source": [
        "## %%%%%%%%%%%%%%% Your code here - Begin %%%%%%%%%%%%%%%\n",
        "x_train_full, y_train_full = ...\n",
        "\n",
        "model = ...\n",
        "model.fit(....\n",
        "## %%%%%%%%%%%%%%% Your code here - End %%%%%%%%%%%%%%%%%"
      ]
    },
    {
      "cell_type": "markdown",
      "metadata": {
        "id": "xoIlLT9ahXSA"
      },
      "source": [
        "## Final evaluation\n",
        "\n",
        "Evaluate the model using the test set"
      ]
    },
    {
      "cell_type": "code",
      "execution_count": null,
      "metadata": {
        "id": "-MeCTNmrhXSA"
      },
      "outputs": [],
      "source": [
        "## %%%%%%%%%%%%%%% Your code here - Begin %%%%%%%%%%%%%%%\n",
        "...\n",
        "print(f'The validation score is: {...\n",
        "## %%%%%%%%%%%%%%% Your code here - End %%%%%%%%%%%%%%%%%"
      ]
    },
    {
      "cell_type": "markdown",
      "metadata": {
        "id": "5sx9zOPThXSB"
      },
      "source": [
        "## Submission\n",
        "\n",
        "To submit your code download it as a **ipynb** file from Colab, and upload it to the course's website (Moodle). You can download this code by selecting **Download .ipynb** from the **file** menu."
      ]
    }
  ],
  "metadata": {
    "kernelspec": {
      "display_name": "Python 3",
      "language": "python",
      "name": "python3"
    },
    "language_info": {
      "codemirror_mode": {
        "name": "ipython",
        "version": 3
      },
      "file_extension": ".py",
      "mimetype": "text/x-python",
      "name": "python",
      "nbconvert_exporter": "python",
      "pygments_lexer": "ipython3",
      "version": "3.6.9"
    },
    "colab": {
      "provenance": [],
      "include_colab_link": true
    }
  },
  "nbformat": 4,
  "nbformat_minor": 0
}